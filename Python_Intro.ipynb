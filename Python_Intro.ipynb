{
  "nbformat": 4,
  "nbformat_minor": 0,
  "metadata": {
    "kernelspec": {
      "display_name": "Python 3",
      "language": "python",
      "name": "python3"
    },
    "language_info": {
      "codemirror_mode": {
        "name": "ipython",
        "version": 3
      },
      "file_extension": ".py",
      "mimetype": "text/x-python",
      "name": "python",
      "nbconvert_exporter": "python",
      "pygments_lexer": "ipython3",
      "version": "3.6.8"
    },
    "toc": {
      "base_numbering": 1,
      "nav_menu": {
        "height": "104px",
        "width": "160px"
      },
      "number_sections": true,
      "sideBar": true,
      "skip_h1_title": false,
      "title_cell": "Table of Contents",
      "title_sidebar": "Contents",
      "toc_cell": false,
      "toc_position": {
        "height": "calc(100% - 180px)",
        "left": "10px",
        "top": "150px",
        "width": "238.2px"
      },
      "toc_section_display": true,
      "toc_window_display": true
    },
    "widgets": {
      "application/vnd.jupyter.widget-state+json": {
        "state": {},
        "version_major": 2,
        "version_minor": 0
      }
    },
    "colab": {
      "name": "Python_Intro.ipynb",
      "provenance": [],
      "collapsed_sections": [
        "t0e2AOKWk1Q2",
        "wAFfyAxzk1Q-",
        "5RKuVsaSk1RF",
        "M6QngyoOk1RG",
        "Vu698tTSk1RK",
        "-C6o1G48k1RW",
        "3rx9k0aYk1Rf",
        "LYqGjY9-k1Rj",
        "qYWFJSM3k1Rt",
        "t4JDAByCk1Rx",
        "UuVQqBt3k1R1",
        "XGavtTmFk1SA",
        "wB667jdWk1SE",
        "6QCBZTmGk1SO",
        "6tqNzNYCk1Sl",
        "jtfvuQRdk1St",
        "PPNr0lbnk1TD",
        "zWedL5Zsk1TG",
        "eaqzFNeAk1TJ",
        "FFV5zYwIk1TM",
        "SaTtYhflk1TU",
        "hV1hk3rxk1TZ",
        "abmCGZ4Bk1Tm",
        "2g6nH3K0k1Tr",
        "sglaUn6ak1Tw",
        "_6dpMvE-k1T4",
        "n18MRcsLk1T4",
        "0xhoUYT6k1T8",
        "26Mua-fnk1UO",
        "eRyu3NZVk1UU",
        "N0XgXBzpk1UZ",
        "PA33jYXyk1Up",
        "ElKQO1tzk1Uu"
      ],
      "include_colab_link": true
    }
  },
  "cells": [
    {
      "cell_type": "markdown",
      "metadata": {
        "id": "view-in-github",
        "colab_type": "text"
      },
      "source": [
        "<a href=\"https://colab.research.google.com/github/jessie0628/codingwithcx/blob/master/Python_Intro.ipynb\" target=\"_parent\"><img src=\"https://colab.research.google.com/assets/colab-badge.svg\" alt=\"Open In Colab\"/></a>"
      ]
    },
    {
      "cell_type": "markdown",
      "metadata": {
        "id": "BxvQ5j9yk1QL",
        "colab_type": "text"
      },
      "source": [
        "## Introduction\n",
        "\n",
        "Python is a modern, robust, high level programming language. It is very easy to pick up even if you are completely new to programming.\n",
        "\n",
        "- The most recent major version of Python is Python 3, which we shall be using in this tutorial.\n",
        "- Python has a simple syntax similar to the English language.\n",
        "- Python uses new lines to complete a command. \n",
        "- Python relies on indentation, using whitespace, to define scope; such as the scope of loops, functions and classes.\n",
        "\n"
      ]
    },
    {
      "cell_type": "markdown",
      "metadata": {
        "id": "UKq4L2fvk1QO",
        "colab_type": "text"
      },
      "source": [
        "## Python Syntax\n",
        "\n",
        "It is important to know how to write lines of code in Python. \n",
        "\n",
        "### Indentation\n",
        "\n",
        "Indentation refers to the spaces at the beginning of a code line.\n",
        "\n",
        "Where in other programming languages the indentation in code is for readability only, the indentation in Python is very important.\n",
        "\n",
        "Python uses indentation to indicate a block of code.\n"
      ]
    },
    {
      "cell_type": "code",
      "metadata": {
        "id": "nPTe14rlk1QP",
        "colab_type": "code",
        "outputId": "d78ffb09-9108-41cd-ec6d-8f8bb851a35d",
        "colab": {}
      },
      "source": [
        "if 5 > 2:\n",
        "    print(\"Five is greater than two!\")"
      ],
      "execution_count": 0,
      "outputs": [
        {
          "output_type": "stream",
          "text": [
            "Five is greater than two!\n"
          ],
          "name": "stdout"
        }
      ]
    },
    {
      "cell_type": "markdown",
      "metadata": {
        "id": "v5RcJ0qwk1QV",
        "colab_type": "text"
      },
      "source": [
        "Python will give you an error if you skip the indentation:"
      ]
    },
    {
      "cell_type": "code",
      "metadata": {
        "id": "_aaNXreWk1QW",
        "colab_type": "code",
        "outputId": "4f03c0fe-76ec-4262-a6f0-0e4aae54f1ae",
        "colab": {}
      },
      "source": [
        "if 5 > 2:\n",
        "print(\"Five is greater than two!\")"
      ],
      "execution_count": 0,
      "outputs": [
        {
          "output_type": "error",
          "ename": "IndentationError",
          "evalue": "expected an indented block (<ipython-input-3-a314491c53bb>, line 2)",
          "traceback": [
            "\u001b[0;36m  File \u001b[0;32m\"<ipython-input-3-a314491c53bb>\"\u001b[0;36m, line \u001b[0;32m2\u001b[0m\n\u001b[0;31m    print(\"Five is greater than two!\")\u001b[0m\n\u001b[0m        ^\u001b[0m\n\u001b[0;31mIndentationError\u001b[0m\u001b[0;31m:\u001b[0m expected an indented block\n"
          ]
        }
      ]
    },
    {
      "cell_type": "markdown",
      "metadata": {
        "id": "1XbspI8Ak1Qa",
        "colab_type": "text"
      },
      "source": [
        "### Comments\n",
        "\n",
        "Python has commenting capability for the purpose of in-code documentation.\n",
        "\n",
        "Comments start with a **#**, and Python will render the rest of the line as a comment: "
      ]
    },
    {
      "cell_type": "code",
      "metadata": {
        "id": "sUhWeEIkk1Qb",
        "colab_type": "code",
        "outputId": "1d6625d3-6d10-4309-cbac-63ff878a06d5",
        "colab": {}
      },
      "source": [
        "#This is a comment.\n",
        "print(\"Hello, World!\")"
      ],
      "execution_count": 0,
      "outputs": [
        {
          "output_type": "stream",
          "text": [
            "Hello, World!\n"
          ],
          "name": "stdout"
        }
      ]
    },
    {
      "cell_type": "markdown",
      "metadata": {
        "id": "x__yoSF6k1Qe",
        "colab_type": "text"
      },
      "source": [
        "## Python Variables\n",
        "\n",
        "Variables are reserved memory locations to store values. This means that when you create a variable you reserve some space in your computer memory.\n",
        "\n",
        "Python variables do not need explicit declaration to reserve memory space. The declaration happens automatically when you assign a value to a variable. The equal sign (=) is used to assign values to variables.\n",
        "\n",
        "The operand to the left of the = operator is the name of the variable and the operand to the right of the = operator is the value stored in the variable."
      ]
    },
    {
      "cell_type": "code",
      "metadata": {
        "id": "eu4KkZ5Xk1Qh",
        "colab_type": "code",
        "outputId": "e0f85900-cbbd-4318-ebb5-ae1d230facdc",
        "colab": {}
      },
      "source": [
        "x = 5\n",
        "y = \"John\"\n",
        "\n",
        "print(x)\n",
        "print(y)"
      ],
      "execution_count": 0,
      "outputs": [
        {
          "output_type": "stream",
          "text": [
            "5\n",
            "John\n"
          ],
          "name": "stdout"
        }
      ]
    },
    {
      "cell_type": "markdown",
      "metadata": {
        "id": "p7dgJPnMk1Qk",
        "colab_type": "text"
      },
      "source": [
        "Variables can be str(Strings), int(integers), float(decimal point numbers) and many more.\n",
        "\n",
        "We show a few common examples.\n"
      ]
    },
    {
      "cell_type": "code",
      "metadata": {
        "id": "_LjzYLfnk1Ql",
        "colab_type": "code",
        "outputId": "8723f365-8b33-4db6-eb3d-7da44f6d0372",
        "colab": {}
      },
      "source": [
        "x = 4 # x is of type int\n",
        "y = \"Sally\" # y is of type str\n",
        "z = 4.0 # z is of type float\n",
        "\n",
        "print(x)\n",
        "print(y)\n",
        "print(z)"
      ],
      "execution_count": 0,
      "outputs": [
        {
          "output_type": "stream",
          "text": [
            "4\n",
            "Sally\n",
            "4.0\n"
          ],
          "name": "stdout"
        }
      ]
    },
    {
      "cell_type": "markdown",
      "metadata": {
        "id": "8E9uZOvdk1Qo",
        "colab_type": "text"
      },
      "source": [
        "Variables do not need to be declared with any particular type and can even change type after they have been set."
      ]
    },
    {
      "cell_type": "code",
      "metadata": {
        "id": "amlu_5mSk1Qu",
        "colab_type": "code",
        "outputId": "0f828021-a381-44c7-a198-22561d9cfb2b",
        "colab": {}
      },
      "source": [
        "x = 4 # x is of type int\n",
        "x = \"Sally\" # x is now of type str\n",
        "print(x)"
      ],
      "execution_count": 0,
      "outputs": [
        {
          "output_type": "stream",
          "text": [
            "Sally\n"
          ],
          "name": "stdout"
        }
      ]
    },
    {
      "cell_type": "markdown",
      "metadata": {
        "id": "GnOesXAok1Qx",
        "colab_type": "text"
      },
      "source": [
        "**Note**\n",
        "\n",
        "To declare a string you can use either \"...\" or '...'. \n",
        "\n",
        "Single (') and double (\") quotes are equivalent in Python."
      ]
    },
    {
      "cell_type": "markdown",
      "metadata": {
        "id": "zExfARpnk1Qy",
        "colab_type": "text"
      },
      "source": [
        "## The Print Statement\n",
        "\n",
        "A **function** is a set of statements that take inputs, do some specific computation and produces output. More about it is explained in the Lists section [6.4].\n",
        "\n",
        "The print() is a built in function  which displays all of its inputs as strings, separated by spaces and follows by a linebreak:"
      ]
    },
    {
      "cell_type": "code",
      "metadata": {
        "id": "xWat3jOJk1Qz",
        "colab_type": "code",
        "outputId": "0934bfaa-a98d-4145-a9f1-a3a9246d2f26",
        "colab": {}
      },
      "source": [
        "print(\"Hello\",\"World\")"
      ],
      "execution_count": 0,
      "outputs": [
        {
          "output_type": "stream",
          "text": [
            "Hello World\n"
          ],
          "name": "stdout"
        }
      ]
    },
    {
      "cell_type": "markdown",
      "metadata": {
        "id": "t0e2AOKWk1Q2",
        "colab_type": "text"
      },
      "source": [
        "### Printing variables"
      ]
    },
    {
      "cell_type": "code",
      "metadata": {
        "id": "R8QXJN_2k1Q3",
        "colab_type": "code",
        "outputId": "ceafa279-876b-43a8-bdcb-fac06c786df9",
        "colab": {}
      },
      "source": [
        "string1='World'\n",
        "string2='!'\n",
        "print('Hello' + string1 + string2) "
      ],
      "execution_count": 0,
      "outputs": [
        {
          "output_type": "stream",
          "text": [
            "HelloWorld!\n"
          ],
          "name": "stdout"
        }
      ]
    },
    {
      "cell_type": "markdown",
      "metadata": {
        "id": "Ys-6Qertk1Q6",
        "colab_type": "text"
      },
      "source": [
        "A easy way to print variables is by using .format() function. This is also a built in python function.\n",
        "\n"
      ]
    },
    {
      "cell_type": "code",
      "metadata": {
        "id": "YimZyATpk1Q7",
        "colab_type": "code",
        "outputId": "2b8b31d3-b9ee-4b47-ceb2-3af485d160c8",
        "colab": {}
      },
      "source": [
        "name = \"Tobias\"\n",
        "\n",
        "print(\" Hello, I am {}\".format(name))"
      ],
      "execution_count": 0,
      "outputs": [
        {
          "output_type": "stream",
          "text": [
            " Hello, I am Tobias\n"
          ],
          "name": "stdout"
        }
      ]
    },
    {
      "cell_type": "markdown",
      "metadata": {
        "id": "wAFfyAxzk1Q-",
        "colab_type": "text"
      },
      "source": [
        "### Exercise\n",
        "\n",
        "Try to store your name and age in variables and print the output. Fill out the missing parts to run the two cells below successufully."
      ]
    },
    {
      "cell_type": "code",
      "metadata": {
        "id": "iKVsV3Bsk1Q_",
        "colab_type": "code",
        "colab": {}
      },
      "source": [
        "name = \n",
        "age = "
      ],
      "execution_count": 0,
      "outputs": []
    },
    {
      "cell_type": "code",
      "metadata": {
        "id": "Jod8fd77k1RB",
        "colab_type": "code",
        "colab": {}
      },
      "source": [
        "print(\"I am {} and my age is {}\".format())"
      ],
      "execution_count": 0,
      "outputs": []
    },
    {
      "cell_type": "markdown",
      "metadata": {
        "id": "5RKuVsaSk1RF",
        "colab_type": "text"
      },
      "source": [
        "## Control Flow Statements\n",
        "\n",
        "The key thing to note about Python's control flow statements and program structure is that it uses indentation to mark blocks. Hence the amount of white space (space or tab characters) at the start of a line is very important."
      ]
    },
    {
      "cell_type": "markdown",
      "metadata": {
        "id": "M6QngyoOk1RG",
        "colab_type": "text"
      },
      "source": [
        "### If - else\n",
        "\n",
        "An *if* statement consists of a boolean expression followed by one or more statements, and these statements are executed if the boolean condition is true.\n",
        "If the condition is not satisfied, the statements below *else* are executed."
      ]
    },
    {
      "cell_type": "code",
      "metadata": {
        "id": "NKEioBrdk1RH",
        "colab_type": "code",
        "outputId": "e58c31ee-3dfc-4903-af97-1caf4c39d74a",
        "colab": {}
      },
      "source": [
        "x = 12\n",
        "if x > 10:\n",
        "    print(\"Hello\")\n",
        "else:\n",
        "    print(\"Bye\")"
      ],
      "execution_count": 0,
      "outputs": [
        {
          "output_type": "stream",
          "text": [
            "Hello\n"
          ],
          "name": "stdout"
        }
      ]
    },
    {
      "cell_type": "markdown",
      "metadata": {
        "id": "Vu698tTSk1RK",
        "colab_type": "text"
      },
      "source": [
        "### Elif\n",
        "\n",
        "To check for multiple conditions, the *elif* is used."
      ]
    },
    {
      "cell_type": "code",
      "metadata": {
        "id": "G9bIIVtFk1RL",
        "colab_type": "code",
        "outputId": "6b952eab-51c0-4750-e524-c0190cae86f5",
        "colab": {}
      },
      "source": [
        "x = 10\n",
        "y = 12\n",
        "if x > y:\n",
        "    print(\"x>y\")\n",
        "elif x < y:\n",
        "    print(\"x<y\")\n",
        "else:\n",
        "    print(\"x=y\")"
      ],
      "execution_count": 0,
      "outputs": [
        {
          "output_type": "stream",
          "text": [
            "x<y\n"
          ],
          "name": "stdout"
        }
      ]
    },
    {
      "cell_type": "markdown",
      "metadata": {
        "id": "-C6o1G48k1RW",
        "colab_type": "text"
      },
      "source": [
        "### For loop\n",
        "\n",
        "The *for* loops are used when you have a block of code which you want to repeat a fixed number of times. The Python *for* statement iterates over the members of a sequence in order, executing the block each time.\n",
        "\n",
        "When looping over integers the *range()* function is useful. It can be of two types.\n",
        "- The function *range(stop)* has parameter *stop* which is the number of integers (whole numbers) to generate, starting from zero. For example, **range(3) == [0, 1, 2].**\n",
        "So, in general, range(n) =  0, 1, ..., n-1\n",
        "\n",
        "\n",
        "- range(m,n)= m, m+1, ..., n-1\n",
        ". For example, **range(3, 6) === [3, 4, 5].**\n",
        "\n",
        "\n",
        "- range(m,n,step) = m, m+step, m+step+step, ..., n-1\n",
        ". For example, **range(3, 10, 2) === [3, 5, 7, 9].**\n",
        "\n",
        "\n",
        "Here, += operator is used. This operator adds right operand to the left operand and assign the result to left operand.\n",
        "For example, c += a is equivalent to c = c + a"
      ]
    },
    {
      "cell_type": "code",
      "metadata": {
        "id": "syrHM_nMk1RX",
        "colab_type": "code",
        "outputId": "58e15149-0643-447a-b637-83aa9d163aca",
        "colab": {}
      },
      "source": [
        "total = 0\n",
        "for i in range(5):\n",
        "    print(i)\n",
        "    total += i\n",
        "\n",
        "print(\"total =\",total)"
      ],
      "execution_count": 0,
      "outputs": [
        {
          "output_type": "stream",
          "text": [
            "0\n",
            "1\n",
            "2\n",
            "3\n",
            "4\n",
            "total = 10\n"
          ],
          "name": "stdout"
        }
      ]
    },
    {
      "cell_type": "markdown",
      "metadata": {
        "id": "3rx9k0aYk1Rf",
        "colab_type": "text"
      },
      "source": [
        "### While Loop\n",
        "\n",
        "The *while* loop loops through a block of code as long as a specified condition is true.\n",
        "\n",
        "while (condition) {\n",
        "\n",
        "  // code block to be executed\n",
        "\n",
        "}\n",
        "\n",
        "We display the squares of first two natural numbers. \n",
        "\n",
        "The ****** operator in Python denotes the square. For example, c** is equivalent to c×c"
      ]
    },
    {
      "cell_type": "code",
      "metadata": {
        "id": "oOz2_1-Qk1Rg",
        "colab_type": "code",
        "outputId": "a0c56478-ee2d-4c96-c303-3866a1a143d3",
        "colab": {}
      },
      "source": [
        "i = 1\n",
        "while i < 3:\n",
        "    print(i ** 2)\n",
        "    i = i+1\n",
        "print('Bye')"
      ],
      "execution_count": 0,
      "outputs": [
        {
          "output_type": "stream",
          "text": [
            "1\n",
            "4\n",
            "Bye\n"
          ],
          "name": "stdout"
        }
      ]
    },
    {
      "cell_type": "markdown",
      "metadata": {
        "id": "LYqGjY9-k1Rj",
        "colab_type": "text"
      },
      "source": [
        "### Exercise \n",
        "\n",
        "Try to print all the greetings by changing the time variable."
      ]
    },
    {
      "cell_type": "code",
      "metadata": {
        "id": "CFobXq3Vk1Rk",
        "colab_type": "code",
        "colab": {}
      },
      "source": [
        "time = None\n",
        "\n",
        "if time<12:\n",
        "    print(\"Guten Morgen\")\n",
        "elif time>17:\n",
        "    print(\"Guten Abend\")\n",
        "else:\n",
        "    print(\"Guten Tag\")"
      ],
      "execution_count": 0,
      "outputs": []
    },
    {
      "cell_type": "markdown",
      "metadata": {
        "id": "qYWFJSM3k1Rt",
        "colab_type": "text"
      },
      "source": [
        "### Exercise\n",
        "Calculate the average of first 20 numbers, that is between 0 to 20. Use any of the Loop statements.\n"
      ]
    },
    {
      "cell_type": "code",
      "metadata": {
        "id": "xU5JVyr0k1Ru",
        "colab_type": "code",
        "colab": {}
      },
      "source": [
        "average = None\n",
        "# write your code here\n",
        "\n",
        "\n",
        "print(\"Average of first 20 numbers: {}\".format())"
      ],
      "execution_count": 0,
      "outputs": []
    },
    {
      "cell_type": "markdown",
      "metadata": {
        "id": "t4JDAByCk1Rx",
        "colab_type": "text"
      },
      "source": [
        "## Lists\n",
        "\n",
        "Lists are the most commonly used data structure. Think of it as a sequence of data that is enclosed in square brackets and data are separated by a comma. Each of these data can be accessed by calling it's index value.\n",
        "\n",
        "Lists are declared by just equating a variable to '[ ]' or list."
      ]
    },
    {
      "cell_type": "code",
      "metadata": {
        "id": "-fYvTM0Vk1Ry",
        "colab_type": "code",
        "outputId": "325f0639-05ea-4b64-c389-6685895bb0c1",
        "colab": {}
      },
      "source": [
        "a = []\n",
        "\n",
        "type(a)"
      ],
      "execution_count": 0,
      "outputs": [
        {
          "output_type": "execute_result",
          "data": {
            "text/plain": [
              "list"
            ]
          },
          "metadata": {
            "tags": []
          },
          "execution_count": 12
        }
      ]
    },
    {
      "cell_type": "markdown",
      "metadata": {
        "id": "UuVQqBt3k1R1",
        "colab_type": "text"
      },
      "source": [
        "### Indexing\n",
        "\n",
        "In python, indexing starts from 0 as already seen for strings. Thus now the list x, which has two elements will have apple at 0 index and orange at 1 index."
      ]
    },
    {
      "cell_type": "code",
      "metadata": {
        "id": "YLYLeAkyk1R2",
        "colab_type": "code",
        "outputId": "64699957-f8ab-4832-efe3-5bdfafb8b813",
        "colab": {}
      },
      "source": [
        "x = ['apple', 'orange']\n",
        "\n",
        "x[0]"
      ],
      "execution_count": 0,
      "outputs": [
        {
          "output_type": "execute_result",
          "data": {
            "text/plain": [
              "'apple'"
            ]
          },
          "metadata": {
            "tags": []
          },
          "execution_count": 13
        }
      ]
    },
    {
      "cell_type": "markdown",
      "metadata": {
        "id": "8Zr6KIBPk1R8",
        "colab_type": "text"
      },
      "source": [
        "Indexing can also be done in reverse order. That is the last element can be accessed first. Here, indexing starts from -1. Thus index value -1 will be orange and index -2 will be apple."
      ]
    },
    {
      "cell_type": "code",
      "metadata": {
        "id": "AgAnQeeEk1R-",
        "colab_type": "code",
        "outputId": "aecaf4ed-3d43-4438-8926-3d0b86a9c988",
        "colab": {}
      },
      "source": [
        "x[-1]"
      ],
      "execution_count": 0,
      "outputs": [
        {
          "output_type": "execute_result",
          "data": {
            "text/plain": [
              "'orange'"
            ]
          },
          "metadata": {
            "tags": []
          },
          "execution_count": 14
        }
      ]
    },
    {
      "cell_type": "markdown",
      "metadata": {
        "id": "XGavtTmFk1SA",
        "colab_type": "text"
      },
      "source": [
        "### Slicing\n",
        "\n",
        "Slicing means accessing a sequence of data inside the list.\n",
        "\n",
        "Slicing is done by defining the index values of the first element and the last element from the parent list that is required in the sliced list. It is written as parentlist[ a : b ] where a,b are the index values from the parent list. If a or b is not defined then the index value is considered to be the first value for a if a is not defined and the last value for b when b is not defined."
      ]
    },
    {
      "cell_type": "code",
      "metadata": {
        "id": "daNvRyu6k1SB",
        "colab_type": "code",
        "outputId": "735b4056-6eed-40f8-fa06-c6c9d29c9ae8",
        "colab": {}
      },
      "source": [
        "num = [0,1,2,3,4,5,6,7,8,9]\n",
        "print(num[0:4])\n",
        "print(num[4:])"
      ],
      "execution_count": 0,
      "outputs": [
        {
          "output_type": "stream",
          "text": [
            "[0, 1, 2, 3]\n",
            "[4, 5, 6, 7, 8, 9]\n"
          ],
          "name": "stdout"
        }
      ]
    },
    {
      "cell_type": "markdown",
      "metadata": {
        "id": "wB667jdWk1SE",
        "colab_type": "text"
      },
      "source": [
        "### Reassigning Values\n",
        "\n",
        "You can change values of any index of a list.\n"
      ]
    },
    {
      "cell_type": "code",
      "metadata": {
        "id": "Jr-6zEs3k1SE",
        "colab_type": "code",
        "outputId": "61c6fca2-1d11-4a23-c77b-10733c1656a5",
        "colab": {}
      },
      "source": [
        "num[0] = 10\n",
        "\n",
        "print(num)"
      ],
      "execution_count": 0,
      "outputs": [
        {
          "output_type": "stream",
          "text": [
            "[10, 1, 2, 3, 4, 5, 6, 7, 8, 9]\n"
          ],
          "name": "stdout"
        }
      ]
    },
    {
      "cell_type": "markdown",
      "metadata": {
        "id": "eZIQ71Wwk1SH",
        "colab_type": "text"
      },
      "source": [
        "But you cannot assign values to a index which is more than the length of the list."
      ]
    },
    {
      "cell_type": "code",
      "metadata": {
        "id": "x1lYh941k1SI",
        "colab_type": "code",
        "outputId": "986d84be-f42c-4dc4-9240-d69b27cb7f48",
        "colab": {}
      },
      "source": [
        "num[11] = 11\n",
        "print(num)"
      ],
      "execution_count": 0,
      "outputs": [
        {
          "output_type": "error",
          "ename": "IndexError",
          "evalue": "list assignment index out of range",
          "traceback": [
            "\u001b[0;31m---------------------------------------------------------------------------\u001b[0m",
            "\u001b[0;31mIndexError\u001b[0m                                Traceback (most recent call last)",
            "\u001b[0;32m<ipython-input-17-0e0f8f458fa5>\u001b[0m in \u001b[0;36m<module>\u001b[0;34m\u001b[0m\n\u001b[0;32m----> 1\u001b[0;31m \u001b[0mnum\u001b[0m\u001b[0;34m[\u001b[0m\u001b[0;36m11\u001b[0m\u001b[0;34m]\u001b[0m \u001b[0;34m=\u001b[0m \u001b[0;36m11\u001b[0m\u001b[0;34m\u001b[0m\u001b[0;34m\u001b[0m\u001b[0m\n\u001b[0m\u001b[1;32m      2\u001b[0m \u001b[0mprint\u001b[0m\u001b[0;34m(\u001b[0m\u001b[0mnum\u001b[0m\u001b[0;34m)\u001b[0m\u001b[0;34m\u001b[0m\u001b[0;34m\u001b[0m\u001b[0m\n",
            "\u001b[0;31mIndexError\u001b[0m: list assignment index out of range"
          ]
        }
      ]
    },
    {
      "cell_type": "markdown",
      "metadata": {
        "id": "divLALjdk1SN",
        "colab_type": "text"
      },
      "source": [
        "To add more values to end of list we can use append(). We show how .append() works below."
      ]
    },
    {
      "cell_type": "markdown",
      "metadata": {
        "id": "6QCBZTmGk1SO",
        "colab_type": "text"
      },
      "source": [
        "### Built in List Functions\n",
        "\n",
        "A **function** is a set of statements that take inputs, do some specific computation and produces output. Python provides **built-in functions** like print(), etc. but we can also create your own functions. These functions are called **user-defined functions**.\n",
        "\n",
        "Python list has a number of functions that are built in which are always available. Some of the most used ones are:\n",
        "- len()\n",
        "- max() or min()\n",
        "- sum()\n",
        "- append()\n",
        "- sort()"
      ]
    },
    {
      "cell_type": "markdown",
      "metadata": {
        "id": "xGyI6Prrk1SQ",
        "colab_type": "text"
      },
      "source": [
        "len(): To get the length of the list."
      ]
    },
    {
      "cell_type": "code",
      "metadata": {
        "id": "ySrgoo_bk1SR",
        "colab_type": "code",
        "outputId": "c39c9a1e-f681-4c87-cd88-dca57a1ce111",
        "colab": {}
      },
      "source": [
        "num = [0,1,2,3,4,5,6,7,8,9]\n",
        "\n",
        "len(num)"
      ],
      "execution_count": 0,
      "outputs": [
        {
          "output_type": "execute_result",
          "data": {
            "text/plain": [
              "10"
            ]
          },
          "metadata": {
            "tags": []
          },
          "execution_count": 18
        }
      ]
    },
    {
      "cell_type": "markdown",
      "metadata": {
        "id": "C5t305aek1SU",
        "colab_type": "text"
      },
      "source": [
        "max(), min(): To get maximum and minimum values in the list."
      ]
    },
    {
      "cell_type": "code",
      "metadata": {
        "id": "HP6cBv4nk1SV",
        "colab_type": "code",
        "outputId": "40de4b62-604d-4890-c6c5-c2466da97e24",
        "colab": {}
      },
      "source": [
        "print(max(num))\n",
        "\n",
        "print(min(num))"
      ],
      "execution_count": 0,
      "outputs": [
        {
          "output_type": "stream",
          "text": [
            "9\n",
            "0\n"
          ],
          "name": "stdout"
        }
      ]
    },
    {
      "cell_type": "markdown",
      "metadata": {
        "id": "-UZz8yMxk1SX",
        "colab_type": "text"
      },
      "source": [
        "sum(): To calculate sum of all elements in the list."
      ]
    },
    {
      "cell_type": "code",
      "metadata": {
        "id": "YDNSPfJek1Sb",
        "colab_type": "code",
        "outputId": "02bdc596-f021-42ed-be44-b9ecedf7ccc0",
        "colab": {}
      },
      "source": [
        "print(sum(num))"
      ],
      "execution_count": 0,
      "outputs": [
        {
          "output_type": "stream",
          "text": [
            "45\n"
          ],
          "name": "stdout"
        }
      ]
    },
    {
      "cell_type": "markdown",
      "metadata": {
        "id": "LStQNQdJk1Se",
        "colab_type": "text"
      },
      "source": [
        "Remember we tried to add 11 to num list but got an error. We can use .append() instead.\n",
        "\n",
        "append(): Insert an element at the end of a list."
      ]
    },
    {
      "cell_type": "code",
      "metadata": {
        "id": "a0-fpHzsk1Se",
        "colab_type": "code",
        "outputId": "0d368e53-8b3d-48ed-bbd5-29b99f653d99",
        "colab": {}
      },
      "source": [
        "num.append(11)\n",
        "print(num)"
      ],
      "execution_count": 0,
      "outputs": [
        {
          "output_type": "stream",
          "text": [
            "[0, 1, 2, 3, 4, 5, 6, 7, 8, 9, 11]\n"
          ],
          "name": "stdout"
        }
      ]
    },
    {
      "cell_type": "markdown",
      "metadata": {
        "id": "vdE_5VOWk1Si",
        "colab_type": "text"
      },
      "source": [
        "sort(): To arrange the elements in ascending order."
      ]
    },
    {
      "cell_type": "code",
      "metadata": {
        "id": "mHmhQSj3k1Sj",
        "colab_type": "code",
        "outputId": "10a0e116-466b-4990-9138-ea5d689a2370",
        "colab": {}
      },
      "source": [
        "num.sort()\n",
        "print(num)"
      ],
      "execution_count": 0,
      "outputs": [
        {
          "output_type": "stream",
          "text": [
            "[0, 1, 2, 3, 4, 5, 6, 7, 8, 9, 11]\n"
          ],
          "name": "stdout"
        }
      ]
    },
    {
      "cell_type": "markdown",
      "metadata": {
        "id": "6tqNzNYCk1Sl",
        "colab_type": "text"
      },
      "source": [
        "### Exercise\n",
        "\n",
        "Print the second item in the fruits list."
      ]
    },
    {
      "cell_type": "code",
      "metadata": {
        "id": "0bBzGm0ck1Sm",
        "colab_type": "code",
        "outputId": "27bda44f-da26-4c6a-e83b-0b15dbcb0f63",
        "colab": {}
      },
      "source": [
        "fruits = [\"apple\", \"banana\", \"cherry\"]\n",
        "\n",
        "# print second item of the list\n",
        "print()"
      ],
      "execution_count": 0,
      "outputs": [
        {
          "output_type": "stream",
          "text": [
            "\n"
          ],
          "name": "stdout"
        }
      ]
    },
    {
      "cell_type": "markdown",
      "metadata": {
        "id": "VoJFG2_Gk1Sp",
        "colab_type": "text"
      },
      "source": [
        "Add another fruit to the fruits list. Print the updated list.\n"
      ]
    },
    {
      "cell_type": "code",
      "metadata": {
        "id": "iRRsDE4ok1Sq",
        "colab_type": "code",
        "colab": {}
      },
      "source": [
        "# add another fruit\n",
        "\n",
        "# print the updated list\n",
        "print()"
      ],
      "execution_count": 0,
      "outputs": []
    },
    {
      "cell_type": "markdown",
      "metadata": {
        "id": "jtfvuQRdk1St",
        "colab_type": "text"
      },
      "source": [
        "## Tuple\n",
        "\n",
        "A tuple is a collection which is ordered and unchangeable. In Python tuples are written with round brackets.\n",
        "\n",
        "Once a tuple is created, you cannot change its values. Tuples are unchangeable, or immutable."
      ]
    },
    {
      "cell_type": "code",
      "metadata": {
        "id": "qV4XrQ_-k1Sw",
        "colab_type": "code",
        "outputId": "a7d3fd22-d81c-4a30-b1b0-e71cdfbdbb98",
        "colab": {}
      },
      "source": [
        "mytuple = (\"apple\", \"banana\", \"cherry\")\n",
        "\n",
        "print(mytuple)"
      ],
      "execution_count": 0,
      "outputs": [
        {
          "output_type": "stream",
          "text": [
            "('apple', 'banana', 'cherry')\n"
          ],
          "name": "stdout"
        }
      ]
    },
    {
      "cell_type": "markdown",
      "metadata": {
        "id": "p2v9xbBkk1Sy",
        "colab_type": "text"
      },
      "source": [
        "You can access tuple items by referring to the index number, inside square brackets.\n",
        "Indexing works the same as in lists."
      ]
    },
    {
      "cell_type": "code",
      "metadata": {
        "id": "7b_bVJgqk1Sz",
        "colab_type": "code",
        "outputId": "55505d19-5a06-4f81-c630-a08df6868a89",
        "colab": {}
      },
      "source": [
        "print(mytuple[1])"
      ],
      "execution_count": 0,
      "outputs": [
        {
          "output_type": "stream",
          "text": [
            "banana\n"
          ],
          "name": "stdout"
        }
      ]
    },
    {
      "cell_type": "markdown",
      "metadata": {
        "id": "iQuDSntIk1S5",
        "colab_type": "text"
      },
      "source": [
        "You can loop through a tuple:"
      ]
    },
    {
      "cell_type": "code",
      "metadata": {
        "id": "E3PJuAcOk1S9",
        "colab_type": "code",
        "outputId": "24332142-0ee0-40aa-8859-f0bc9266335d",
        "colab": {}
      },
      "source": [
        "for x in mytuple:\n",
        "    print(x) "
      ],
      "execution_count": 0,
      "outputs": [
        {
          "output_type": "stream",
          "text": [
            "apple\n",
            "banana\n",
            "cherry\n"
          ],
          "name": "stdout"
        }
      ]
    },
    {
      "cell_type": "markdown",
      "metadata": {
        "id": "PPNr0lbnk1TD",
        "colab_type": "text"
      },
      "source": [
        "## Dictionary\n",
        "\n",
        "A dictionary is a collection which is unordered, changeable and indexed.\n",
        "\n",
        "In Python dictionaries are written with curly brackets, and they have keys and values."
      ]
    },
    {
      "cell_type": "code",
      "metadata": {
        "id": "JFLQLYF5k1TE",
        "colab_type": "code",
        "outputId": "9063c25d-7516-44e0-e001-8c9cd6374638",
        "colab": {}
      },
      "source": [
        "mydict ={\n",
        "  \"brand\": \"Ford\",\n",
        "  \"model\": \"Mustang\",\n",
        "  \"year\": 1964\n",
        "}\n",
        "print(mydict)"
      ],
      "execution_count": 0,
      "outputs": [
        {
          "output_type": "stream",
          "text": [
            "{'brand': 'Ford', 'model': 'Mustang', 'year': 1964}\n"
          ],
          "name": "stdout"
        }
      ]
    },
    {
      "cell_type": "markdown",
      "metadata": {
        "id": "zWedL5Zsk1TG",
        "colab_type": "text"
      },
      "source": [
        "### Accessing items\n",
        "\n",
        "You can access the items of a dictionary by referring to its key name, inside square brackets:"
      ]
    },
    {
      "cell_type": "code",
      "metadata": {
        "id": "UONQ7qbgk1TG",
        "colab_type": "code",
        "outputId": "033f2c6a-febc-4d5e-bcc9-1fef7172eacf",
        "colab": {}
      },
      "source": [
        "x = mydict[\"model\"]\n",
        "print(x)"
      ],
      "execution_count": 0,
      "outputs": [
        {
          "output_type": "stream",
          "text": [
            "Mustang\n"
          ],
          "name": "stdout"
        }
      ]
    },
    {
      "cell_type": "markdown",
      "metadata": {
        "id": "eaqzFNeAk1TJ",
        "colab_type": "text"
      },
      "source": [
        "### Change Values\n",
        "\n",
        "You can change the value of a specific item by referring to its key name:"
      ]
    },
    {
      "cell_type": "code",
      "metadata": {
        "id": "eYLB8G-rk1TK",
        "colab_type": "code",
        "outputId": "92ed6ae3-a88f-46ac-91cd-5b54a9593648",
        "colab": {}
      },
      "source": [
        "mydict[\"year\"] = 2018\n",
        "\n",
        "print(mydict)"
      ],
      "execution_count": 0,
      "outputs": [
        {
          "output_type": "stream",
          "text": [
            "{'brand': 'Ford', 'model': 'Mustang', 'year': 2018}\n"
          ],
          "name": "stdout"
        }
      ]
    },
    {
      "cell_type": "markdown",
      "metadata": {
        "id": "FFV5zYwIk1TM",
        "colab_type": "text"
      },
      "source": [
        "### Loop through Dictionary\n",
        "\n",
        "You can loop through a dictionary by using a for loop."
      ]
    },
    {
      "cell_type": "markdown",
      "metadata": {
        "id": "QoXx5HNIk1TN",
        "colab_type": "text"
      },
      "source": [
        "To print all key names in the dictionary, one by one:"
      ]
    },
    {
      "cell_type": "code",
      "metadata": {
        "id": "0w-k7jh6k1TN",
        "colab_type": "code",
        "outputId": "5d3c38a5-0157-4880-d6bd-dc9e63a03334",
        "colab": {}
      },
      "source": [
        "for x in mydict:\n",
        "    print(x) "
      ],
      "execution_count": 0,
      "outputs": [
        {
          "output_type": "stream",
          "text": [
            "brand\n",
            "model\n",
            "year\n"
          ],
          "name": "stdout"
        }
      ]
    },
    {
      "cell_type": "markdown",
      "metadata": {
        "id": "_4uaAzUTk1TR",
        "colab_type": "text"
      },
      "source": [
        "To print all values in the dictionary, one by one:"
      ]
    },
    {
      "cell_type": "code",
      "metadata": {
        "id": "9KEvhHJvk1TS",
        "colab_type": "code",
        "outputId": "a3c00662-f8da-4464-e102-d9fe4f62f769",
        "colab": {}
      },
      "source": [
        "for x in mydict:\n",
        "    print(mydict[x]) "
      ],
      "execution_count": 0,
      "outputs": [
        {
          "output_type": "stream",
          "text": [
            "Ford\n",
            "Mustang\n",
            "2018\n"
          ],
          "name": "stdout"
        }
      ]
    },
    {
      "cell_type": "markdown",
      "metadata": {
        "id": "SaTtYhflk1TU",
        "colab_type": "text"
      },
      "source": [
        "### Adding Items\n",
        "\n",
        "Adding an item to the dictionary is done by using a new index key and assigning a value to it:"
      ]
    },
    {
      "cell_type": "code",
      "metadata": {
        "id": "KlKwLRzSk1TU",
        "colab_type": "code",
        "outputId": "06570935-5d5d-466d-a6c8-4789fd70fad6",
        "colab": {}
      },
      "source": [
        "mydict ={\n",
        "  \"brand\": \"Ford\",\n",
        "  \"model\": \"Mustang\",\n",
        "  \"year\": 1964\n",
        "}\n",
        "\n",
        "mydict[\"color\"] = \"red\"\n",
        "print(mydict)"
      ],
      "execution_count": 0,
      "outputs": [
        {
          "output_type": "stream",
          "text": [
            "{'brand': 'Ford', 'model': 'Mustang', 'year': 1964, 'color': 'red'}\n"
          ],
          "name": "stdout"
        }
      ]
    },
    {
      "cell_type": "markdown",
      "metadata": {
        "id": "hV1hk3rxk1TZ",
        "colab_type": "text"
      },
      "source": [
        "### Exercise \n",
        "\n",
        "Construct a dictionary named car with the characteristics, Brand is \"Audi\", Model of the car: \"Q3\" and Year of construction: 2001.\n",
        "\n",
        "Then perform the following tasks:\n",
        "- Get its model\n",
        "- Change the year to 2019\n",
        "- Add Colour of car as Blue"
      ]
    },
    {
      "cell_type": "code",
      "metadata": {
        "id": "v55Hyvhck1Ta",
        "colab_type": "code",
        "colab": {}
      },
      "source": [
        "car ={\n",
        "  \n",
        "}"
      ],
      "execution_count": 0,
      "outputs": []
    },
    {
      "cell_type": "code",
      "metadata": {
        "id": "smwDBwVdk1Tc",
        "colab_type": "code",
        "colab": {}
      },
      "source": [
        "# get the model\n",
        "model = \n",
        "print(\"The model of car is: {}\".format(model))"
      ],
      "execution_count": 0,
      "outputs": []
    },
    {
      "cell_type": "code",
      "metadata": {
        "id": "o2zXRJVsk1Tg",
        "colab_type": "code",
        "colab": {}
      },
      "source": [
        "# change the year\n",
        "\n",
        "\n",
        "# print the entire dictionary\n",
        "print(car)"
      ],
      "execution_count": 0,
      "outputs": []
    },
    {
      "cell_type": "code",
      "metadata": {
        "id": "mGHNKBLjk1Tl",
        "colab_type": "code",
        "colab": {}
      },
      "source": [
        "# add colour\n",
        "\n",
        "\n",
        "# print the entire dictionary\n",
        "print(car)"
      ],
      "execution_count": 0,
      "outputs": []
    },
    {
      "cell_type": "markdown",
      "metadata": {
        "id": "abmCGZ4Bk1Tm",
        "colab_type": "text"
      },
      "source": [
        "## User-defined Functions\n",
        "\n",
        "User-defined Functions can represent mathematical functions. More importantly, in programmming functions are a mechansim to allow code to be re-used so that complex programs can be built up out of simpler parts."
      ]
    },
    {
      "cell_type": "code",
      "metadata": {
        "id": "BNfZaxK2k1Tn",
        "colab_type": "code",
        "outputId": "ba54dd50-7246-48dd-8d1d-db4c5aa31ea5",
        "colab": {}
      },
      "source": [
        "def firstfunc():\n",
        "    print(\"Hello!\")\n",
        "    print(\"How are you?\")\n",
        "firstfunc() # execute the function"
      ],
      "execution_count": 0,
      "outputs": [
        {
          "output_type": "stream",
          "text": [
            "Hello!\n",
            "How are you?\n"
          ],
          "name": "stdout"
        }
      ]
    },
    {
      "cell_type": "markdown",
      "metadata": {
        "id": "OpZ1cXgok1To",
        "colab_type": "text"
      },
      "source": [
        "We can make our function firstfunc() to accept arguements which will store the name and then prints respective to that accepted name. To do so, add a argument within the function as shown."
      ]
    },
    {
      "cell_type": "code",
      "metadata": {
        "id": "FbWLczy4k1Tp",
        "colab_type": "code",
        "outputId": "5a93ea27-9901-4104-8489-31534918af75",
        "colab": {}
      },
      "source": [
        "def firstfunc(username):\n",
        "    print(\"Hello {}.\" .format(username))\n",
        "\n",
        "firstfunc(\"Tobias\")"
      ],
      "execution_count": 0,
      "outputs": [
        {
          "output_type": "stream",
          "text": [
            "Hello Tobias.\n"
          ],
          "name": "stdout"
        }
      ]
    },
    {
      "cell_type": "markdown",
      "metadata": {
        "id": "2g6nH3K0k1Tr",
        "colab_type": "text"
      },
      "source": [
        "### Return Statement\n",
        "\n",
        "When the function results in some value and that value has to be stored in a variable or needs to be sent back or returned for further operation to the main algorithm, a return statement is used."
      ]
    },
    {
      "cell_type": "code",
      "metadata": {
        "id": "L5TTmDEak1Tr",
        "colab_type": "code",
        "outputId": "bbac6e14-229e-455d-da03-e8e9dadc851a",
        "colab": {}
      },
      "source": [
        "def times(x,y):\n",
        "    z = x*y\n",
        "    return z\n",
        "\n",
        "c = times(4,5)\n",
        "print(c)"
      ],
      "execution_count": 0,
      "outputs": [
        {
          "output_type": "stream",
          "text": [
            "20\n"
          ],
          "name": "stdout"
        }
      ]
    },
    {
      "cell_type": "markdown",
      "metadata": {
        "id": "sglaUn6ak1Tw",
        "colab_type": "text"
      },
      "source": [
        "### Exercise\n",
        "\n",
        "Write a function to calculate Body Mass Index:\n",
        "\n",
        "Inputs are:\n",
        "- weight (kg)\n",
        "- height (m)\n",
        "\n",
        "Formula: $weight/(height)^2$"
      ]
    },
    {
      "cell_type": "code",
      "metadata": {
        "id": "fMWXZcZ8k1Tx",
        "colab_type": "code",
        "outputId": "f0f1318b-93b1-4d4b-fc63-7c486b053a9e",
        "colab": {}
      },
      "source": [
        "BMI = None\n",
        "# Write your own function\n",
        "\n",
        "\n",
        "print(\"Your BMI is: {}\".format(BMI))"
      ],
      "execution_count": 0,
      "outputs": [
        {
          "output_type": "stream",
          "text": [
            "Your BMI is: None\n"
          ],
          "name": "stdout"
        }
      ]
    },
    {
      "cell_type": "markdown",
      "metadata": {
        "id": "_6dpMvE-k1T4",
        "colab_type": "text"
      },
      "source": [
        "## Linear Algebra\n",
        "\n",
        "The study of linear algebra involves several types of mathematical objects like:\n",
        "- **Scalars**: A scalar is just a single number\n",
        "- **Vectors**: A vector is an array of numbers. The numbers are arranged in order. We can identify each individual number by its index in that ordering\n",
        "- **Matrices**: A matrix is a 2-D array of numbers, so each element is identiﬁed by two indices instead of just one. \n",
        "- **Tensors**: In some cases we will need an array with more than two axes.In the general case, an array of numbers arranged on a regular grid with a variable number of axes is known as a tensor."
      ]
    },
    {
      "cell_type": "markdown",
      "metadata": {
        "id": "n18MRcsLk1T4",
        "colab_type": "text"
      },
      "source": [
        "### Creating Scalars, Vectors and Matrices."
      ]
    },
    {
      "cell_type": "markdown",
      "metadata": {
        "id": "0xkkqEwLk1T5",
        "colab_type": "text"
      },
      "source": [
        "Scalars can be created easily like this:"
      ]
    },
    {
      "cell_type": "code",
      "metadata": {
        "id": "YR466J0Kk1T6",
        "colab_type": "code",
        "outputId": "daf281d5-0a0b-4d3b-ac97-210c289ba76c",
        "colab": {
          "base_uri": "https://localhost:8080/",
          "height": 34
        }
      },
      "source": [
        "x = 0.5\n",
        "print(x)"
      ],
      "execution_count": 0,
      "outputs": [
        {
          "output_type": "stream",
          "text": [
            "0.5\n"
          ],
          "name": "stdout"
        }
      ]
    },
    {
      "cell_type": "markdown",
      "metadata": {
        "id": "0xhoUYT6k1T8",
        "colab_type": "text"
      },
      "source": [
        "### Numpy\n",
        "\n",
        "A Python library is a collection of functions and methods that allows you to perform many actions without writing your own code. One such is the **Numpy** library, which is used for numerical operations.\n",
        "\n",
        "Dealing with vectors and matrices efficiently requires the **numpy** library. Numpy supports arrays and matrices. Apart from the convenience, the numpy methods are also much faster at performing operations on matrices or arrays than performing arithmetic with numbers stored in lists."
      ]
    },
    {
      "cell_type": "code",
      "metadata": {
        "id": "_LrMXQ-Dk1T9",
        "colab_type": "code",
        "colab": {}
      },
      "source": [
        "import numpy as np "
      ],
      "execution_count": 0,
      "outputs": []
    },
    {
      "cell_type": "code",
      "metadata": {
        "id": "BLssX0utk1UB",
        "colab_type": "code",
        "outputId": "00e258b5-81ce-409d-fbd8-8f8b24dd635e",
        "colab": {
          "base_uri": "https://localhost:8080/",
          "height": 34
        }
      },
      "source": [
        "x_vector = np.array([1.5,0,-1,2]) #i miss cx\n",
        "print(x_vector)\n"
      ],
      "execution_count": 0,
      "outputs": [
        {
          "output_type": "stream",
          "text": [
            "[ 1.5  0.  -1.   2. ]\n"
          ],
          "name": "stdout"
        }
      ]
    },
    {
      "cell_type": "markdown",
      "metadata": {
        "id": "FBSvFojNk1UD",
        "colab_type": "text"
      },
      "source": [
        "Matrices are 2-D vectors."
      ]
    },
    {
      "cell_type": "code",
      "metadata": {
        "id": "ECFEmrRSk1UE",
        "colab_type": "code",
        "outputId": "6f6bbf3c-7096-4de2-f616-854f50f95e96",
        "colab": {
          "base_uri": "https://localhost:8080/",
          "height": 34
        }
      },
      "source": [
        "x_vector = np.arange(1038)\n",
        "x_vector"
      ],
      "execution_count": 0,
      "outputs": [
        {
          "output_type": "execute_result",
          "data": {
            "text/plain": [
              "array([   0,    1,    2, ..., 1035, 1036, 1037])"
            ]
          },
          "metadata": {
            "tags": []
          },
          "execution_count": 14
        }
      ]
    },
    {
      "cell_type": "code",
      "metadata": {
        "id": "KS9IseFqk1UK",
        "colab_type": "code",
        "outputId": "ae0b5487-3c84-4178-f53e-da594795d744",
        "colab": {
          "base_uri": "https://localhost:8080/",
          "height": 119
        }
      },
      "source": [
        "x_matrix = x_vector.reshape(6,-1)\n",
        "\n",
        "x_matrix\n"
      ],
      "execution_count": 0,
      "outputs": [
        {
          "output_type": "execute_result",
          "data": {
            "text/plain": [
              "array([[   0,    1,    2, ...,  170,  171,  172],\n",
              "       [ 173,  174,  175, ...,  343,  344,  345],\n",
              "       [ 346,  347,  348, ...,  516,  517,  518],\n",
              "       [ 519,  520,  521, ...,  689,  690,  691],\n",
              "       [ 692,  693,  694, ...,  862,  863,  864],\n",
              "       [ 865,  866,  867, ..., 1035, 1036, 1037]])"
            ]
          },
          "metadata": {
            "tags": []
          },
          "execution_count": 15
        }
      ]
    },
    {
      "cell_type": "code",
      "metadata": {
        "id": "lc0XvhwQk1UM",
        "colab_type": "code",
        "outputId": "67f90d82-bb89-46b8-a2ed-b4a0ee7d4dcf",
        "colab": {}
      },
      "source": [
        "print(x_matrix.shape)"
      ],
      "execution_count": 0,
      "outputs": [
        {
          "output_type": "stream",
          "text": [
            "(3, 3)\n"
          ],
          "name": "stdout"
        }
      ]
    },
    {
      "cell_type": "markdown",
      "metadata": {
        "id": "26Mua-fnk1UO",
        "colab_type": "text"
      },
      "source": [
        "### Matrix Addition and Subtraction\n",
        "\n",
        "Let's consider a small matrix of dimension 2×2, where 2×2 denotes the number of rows × the number of columns.\n",
        "\n",
        "Let A=$\\begin{bmatrix}a11 & a12\\\\a21 & a22\\end{bmatrix}$. Consider adding a scalar value (e.g. 3) to the A.\n",
        "\n",
        "\n",
        "$ A + 3 = \\begin{bmatrix}a11 & a12\\\\a21 & a22\\end{bmatrix} + 3 = \\begin{bmatrix}a11+3 & a12+3\\\\a21+3 & a22+3\\end{bmatrix}$\n",
        "\n",
        "The same basic principle holds true for A-3:\n",
        "\n",
        "$ A - 3 = \\begin{bmatrix}a11 & a12\\\\a21 & a22\\end{bmatrix} - 3 = \\begin{bmatrix}a11-3 & a12-3\\\\a21-3 & a22-3\\end{bmatrix}$\n"
      ]
    },
    {
      "cell_type": "code",
      "metadata": {
        "id": "ppxz-AcAk1UQ",
        "colab_type": "code",
        "outputId": "ce8c4057-5810-4582-c046-71461a705ce5",
        "colab": {}
      },
      "source": [
        "A = np.arange(4).reshape(2,2)\n",
        "print(A)"
      ],
      "execution_count": 0,
      "outputs": [
        {
          "output_type": "stream",
          "text": [
            "[[0 1]\n",
            " [2 3]]\n"
          ],
          "name": "stdout"
        }
      ]
    },
    {
      "cell_type": "code",
      "metadata": {
        "id": "Imird4oEk1UT",
        "colab_type": "code",
        "outputId": "b46f8c0f-3975-480a-fbac-545fa2b15476",
        "colab": {}
      },
      "source": [
        "print(A+3)"
      ],
      "execution_count": 0,
      "outputs": [
        {
          "output_type": "stream",
          "text": [
            "[[3 4]\n",
            " [5 6]]\n"
          ],
          "name": "stdout"
        }
      ]
    },
    {
      "cell_type": "markdown",
      "metadata": {
        "id": "eRyu3NZVk1UU",
        "colab_type": "text"
      },
      "source": [
        "### Adding or Subtracting two matrices\n",
        "\n",
        "Adding two matrices A and B:\n",
        "\n",
        "$ A + B = \\begin{bmatrix}a11 & a12\\\\a21 & a22\\end{bmatrix} + \\begin{bmatrix}b11 & b12\\\\b21 & b22\\end{bmatrix} = \\begin{bmatrix}a11+b11 & a12+b12\\\\a21+b21 & a22+b22\\end{bmatrix}$\n",
        "\n",
        "Subtraction would work exactly same."
      ]
    },
    {
      "cell_type": "code",
      "metadata": {
        "id": "TRw3n2pNk1UV",
        "colab_type": "code",
        "outputId": "6f0eada5-f223-4952-a291-235b493fa72f",
        "colab": {}
      },
      "source": [
        "B = np.arange(4,8).reshape(2,2)\n",
        "print(B)"
      ],
      "execution_count": 0,
      "outputs": [
        {
          "output_type": "stream",
          "text": [
            "[[4 5]\n",
            " [6 7]]\n"
          ],
          "name": "stdout"
        }
      ]
    },
    {
      "cell_type": "code",
      "metadata": {
        "id": "Gu9HmXZ3k1UX",
        "colab_type": "code",
        "outputId": "96e8b966-66df-4561-a422-ba2ee8d929fe",
        "colab": {}
      },
      "source": [
        "A + B"
      ],
      "execution_count": 0,
      "outputs": [
        {
          "output_type": "execute_result",
          "data": {
            "text/plain": [
              "array([[ 4,  6],\n",
              "       [ 8, 10]])"
            ]
          },
          "metadata": {
            "tags": []
          },
          "execution_count": 96
        }
      ]
    },
    {
      "cell_type": "markdown",
      "metadata": {
        "id": "N0XgXBzpk1UZ",
        "colab_type": "text"
      },
      "source": [
        "### Matrix Multiplication\n",
        "\n",
        "Let's assume we have matrix A of dimension 3×2 and matrix B of dimension 2×3\n",
        "\n",
        "A=$\\begin{bmatrix}a11 & a12\\\\a21 & a22\\\\a31 & a32\\end{bmatrix}$, B=$\\begin{bmatrix}b11 & b12 & b13\\\\b21 & b22 & b23\\end{bmatrix}$\n",
        "\n",
        "Then A × B = $\\begin{bmatrix}a11 & a12\\\\a21 & a22\\\\a31 & a32\\end{bmatrix}$ × $\\begin{bmatrix}b11 & b12 & b13\\\\b21 & b22 & b23\\end{bmatrix}$\n",
        "\n",
        "= $\\begin{bmatrix}a11b11+a12b21 & a11b12+a12b22 & a11b13+a12b23\\\\a21b11+a22b21 & a21b12+a22b22 & a21b13+a22b23\\\\a31b11+a32b21 & a31b12+a32b22 & a31b13+a32b23\\end{bmatrix}$"
      ]
    },
    {
      "cell_type": "markdown",
      "metadata": {
        "id": "OpSBPZ-3k1Ua",
        "colab_type": "text"
      },
      "source": [
        "**So, for $A_{r_{a}×c_{a}}×B_{r_{b}×c_{b}}$ , where r = row and c = column, we have two important things to remember:**\n",
        "\n",
        "- For conformability in matrix multiplication, $c_{a}=r_{b}$, or the columns in the first operand must be equal to the rows of the second operand.\n",
        "- The result will be of dimension $r_{a}×c_{b}$, or of dimensions equal to the rows of the first operand and columns equal to columns of the second operand."
      ]
    },
    {
      "cell_type": "code",
      "metadata": {
        "id": "T_qImvd8k1Ua",
        "colab_type": "code",
        "outputId": "9c8e35e2-71c0-4ef6-c88d-326b773e5485",
        "colab": {
          "base_uri": "https://localhost:8080/",
          "height": 102
        }
      },
      "source": [
        "A = np.arange(6).reshape(3,2)\n",
        "B = np.arange(6,12).reshape(2,3)\n",
        "print(A)\n",
        "print(A.shape)\n",
        "print(B.shape)"
      ],
      "execution_count": 0,
      "outputs": [
        {
          "output_type": "stream",
          "text": [
            "[[0 1]\n",
            " [2 3]\n",
            " [4 5]]\n",
            "(3, 2)\n",
            "(2, 3)\n"
          ],
          "name": "stdout"
        }
      ]
    },
    {
      "cell_type": "code",
      "metadata": {
        "id": "hJPYkd5qk1Ud",
        "colab_type": "code",
        "outputId": "c0198cea-cbfc-4bc1-b3d9-29507eb1fb1d",
        "colab": {
          "base_uri": "https://localhost:8080/",
          "height": 85
        }
      },
      "source": [
        "result = np.dot(A,B)\n",
        "\n",
        "print(result)\n",
        "print(result.shape)"
      ],
      "execution_count": 0,
      "outputs": [
        {
          "output_type": "stream",
          "text": [
            "[[ 9 10 11]\n",
            " [39 44 49]\n",
            " [69 78 87]]\n",
            "(3, 3)\n"
          ],
          "name": "stdout"
        }
      ]
    },
    {
      "cell_type": "markdown",
      "metadata": {
        "id": "Rx_X-TK3k1Ug",
        "colab_type": "text"
      },
      "source": [
        "The common dimension between the matrices we multiply has to match. Otherwise, Python will throw error:"
      ]
    },
    {
      "cell_type": "code",
      "metadata": {
        "id": "8iOAr_k0k1Ui",
        "colab_type": "code",
        "outputId": "0862a278-9d26-4c2d-a788-9cb1d3da6bcb",
        "colab": {}
      },
      "source": [
        "A = np.arange(6).reshape(6,1)\n",
        "B = np.arange(6,12).reshape(2,3)\n",
        "\n",
        "print(A.shape)\n",
        "print(B.shape)"
      ],
      "execution_count": 0,
      "outputs": [
        {
          "output_type": "stream",
          "text": [
            "(6, 1)\n",
            "(2, 3)\n"
          ],
          "name": "stdout"
        }
      ]
    },
    {
      "cell_type": "code",
      "metadata": {
        "id": "fSVHwT3Vk1Ul",
        "colab_type": "code",
        "outputId": "b3d9014f-386e-4a94-c2c7-d303053e3b95",
        "colab": {}
      },
      "source": [
        "result = np.dot(A,B)\n",
        "\n",
        "print(result)\n",
        "print(result.shape)"
      ],
      "execution_count": 0,
      "outputs": [
        {
          "output_type": "error",
          "ename": "ValueError",
          "evalue": "shapes (6,1) and (2,3) not aligned: 1 (dim 1) != 2 (dim 0)",
          "traceback": [
            "\u001b[0;31m---------------------------------------------------------------------------\u001b[0m",
            "\u001b[0;31mValueError\u001b[0m                                Traceback (most recent call last)",
            "\u001b[0;32m<ipython-input-52-5d50a1134a69>\u001b[0m in \u001b[0;36m<module>\u001b[0;34m\u001b[0m\n\u001b[0;32m----> 1\u001b[0;31m \u001b[0mresult\u001b[0m \u001b[0;34m=\u001b[0m \u001b[0mnp\u001b[0m\u001b[0;34m.\u001b[0m\u001b[0mdot\u001b[0m\u001b[0;34m(\u001b[0m\u001b[0mA\u001b[0m\u001b[0;34m,\u001b[0m\u001b[0mB\u001b[0m\u001b[0;34m)\u001b[0m\u001b[0;34m\u001b[0m\u001b[0;34m\u001b[0m\u001b[0m\n\u001b[0m\u001b[1;32m      2\u001b[0m \u001b[0;34m\u001b[0m\u001b[0m\n\u001b[1;32m      3\u001b[0m \u001b[0mprint\u001b[0m\u001b[0;34m(\u001b[0m\u001b[0mresult\u001b[0m\u001b[0;34m)\u001b[0m\u001b[0;34m\u001b[0m\u001b[0;34m\u001b[0m\u001b[0m\n\u001b[1;32m      4\u001b[0m \u001b[0mprint\u001b[0m\u001b[0;34m(\u001b[0m\u001b[0mresult\u001b[0m\u001b[0;34m.\u001b[0m\u001b[0mshape\u001b[0m\u001b[0;34m)\u001b[0m\u001b[0;34m\u001b[0m\u001b[0;34m\u001b[0m\u001b[0m\n",
            "\u001b[0;32m<__array_function__ internals>\u001b[0m in \u001b[0;36mdot\u001b[0;34m(*args, **kwargs)\u001b[0m\n",
            "\u001b[0;31mValueError\u001b[0m: shapes (6,1) and (2,3) not aligned: 1 (dim 1) != 2 (dim 0)"
          ]
        }
      ]
    },
    {
      "cell_type": "markdown",
      "metadata": {
        "id": "DsaXa67Nk1Up",
        "colab_type": "text"
      },
      "source": [
        "Change the B matrix dimension such that the error is solved. Then the rerun the two cells above.\n"
      ]
    },
    {
      "cell_type": "markdown",
      "metadata": {
        "id": "PA33jYXyk1Up",
        "colab_type": "text"
      },
      "source": [
        "### Transpose of a matrix\n",
        "\n",
        "At times it is useful to pivot a matrix for conformability- that is in order to matrix divide or multiply, we need to switch the rows and column dimensions of matrices. \n",
        "\n",
        "Consider the matrix A = $\\begin{bmatrix}a11 & a12\\\\a21 & a22\\\\a31 & a32\\end{bmatrix}$\n",
        "\n",
        "The transpose of A, A′ = $\\begin{bmatrix}a11 & a21 & a31\\\\a12 & a22 & a32\\end{bmatrix}$"
      ]
    },
    {
      "cell_type": "code",
      "metadata": {
        "id": "Qzu5he85k1Uq",
        "colab_type": "code",
        "outputId": "e69c7672-cb2a-42c5-dad4-5bd90bfcc1fa",
        "colab": {}
      },
      "source": [
        "A = np.arange(6).reshape((3,2))\n",
        "B = np.arange(8).reshape((2,4))\n",
        "print(\"A is\")\n",
        "print(A)\n",
        "print( \"The Transpose of A is\")\n",
        "print (A.T)"
      ],
      "execution_count": 0,
      "outputs": [
        {
          "output_type": "stream",
          "text": [
            "A is\n",
            "[[0 1]\n",
            " [2 3]\n",
            " [4 5]]\n",
            "The Transpose of A is\n",
            "[[0 2 4]\n",
            " [1 3 5]]\n"
          ],
          "name": "stdout"
        }
      ]
    },
    {
      "cell_type": "markdown",
      "metadata": {
        "id": "ElKQO1tzk1Uu",
        "colab_type": "text"
      },
      "source": [
        "### Exercise\n",
        "\n",
        "Declare two matrices, matrix A of dimension 3×2 and matrix B als of dimension 3×2.\n",
        "\n",
        "Calculate matrix C = A × B. \n",
        "\n",
        "C should be of dimension 3×3.\n",
        "\n",
        "Hint: use transpose"
      ]
    },
    {
      "cell_type": "code",
      "metadata": {
        "id": "HvGRxs6ek1Uu",
        "colab_type": "code",
        "outputId": "2364a221-5fc0-497a-8729-260dfffc82f9",
        "colab": {
          "base_uri": "https://localhost:8080/",
          "height": 68
        }
      },
      "source": [
        "rng=np.random.default_rng()\n",
        "\n",
        "A = 2*rng.random((3,2))\n",
        "B = 3*rng.random((2,3))-4\n",
        "\n",
        "C = np.dot(A,B)\n",
        "\n",
        "#print(A)\n",
        "#print(B)\n",
        "print(C)"
      ],
      "execution_count": 0,
      "outputs": [
        {
          "output_type": "stream",
          "text": [
            "[[-4.36568772 -2.97860385 -4.27834636]\n",
            " [-4.10397034 -2.80582514 -3.37807397]\n",
            " [-5.69080921 -3.88677575 -5.12363119]]\n"
          ],
          "name": "stdout"
        }
      ]
    },
    {
      "cell_type": "markdown",
      "metadata": {
        "id": "XpUSVlPuk1Uw",
        "colab_type": "text"
      },
      "source": [
        "## Final Exercise"
      ]
    },
    {
      "cell_type": "markdown",
      "metadata": {
        "id": "lKUTfg6mk1Uw",
        "colab_type": "text"
      },
      "source": [
        "Let us now try to apply all the things we learnt.\n",
        "\n",
        "In this exercise, we will calculate the Mean Arterial Pressure (MAP) of a patient.\n",
        "\n",
        "The input will be in form of a list. So, for a patient, patient1 = [SBP, DBP].\n",
        " \n",
        "Here, SBP == Systolic Blood Pressure, DBP == Diastolic Blood Pressure.\n",
        "\n",
        "The formula: **MAP = 1/3 * SBP + 2/3 * DBP**\n",
        "\n",
        "\n",
        "Based upon the the result of MAP of each patient decide whether the patient's MAP is low, normal or high.\n",
        "The normal range for MAP is 60 to 100.\n"
      ]
    },
    {
      "cell_type": "code",
      "metadata": {
        "id": "BedgcLMek1Uz",
        "colab_type": "code",
        "outputId": "629c5189-69ef-4b57-d5ea-03a421668863",
        "colab": {
          "base_uri": "https://localhost:8080/",
          "height": 34
        }
      },
      "source": [
        "# input the SBP and DBP of a patient\n",
        "patient = [105,40]\n",
        "\n",
        "# write a function here to calculate the mean arterial pressure.\n",
        "def cal_map(patient):\n",
        "  MAP = 1/3*patient[0] + 2/3*patient[1]\n",
        "  return MAP\n",
        "\n",
        "# store the map in a variable.\n",
        "MAP = None\n",
        "\n",
        "# write another function to displa whether the MAP value is low, normal or high\n",
        "\n",
        "# Hint: use if else loop\n",
        "def map_decision(MAP):\n",
        "    if MAP >100: \n",
        "      print(\"high\")\n",
        "    elif MAP <60:\n",
        "      print(\"low\")\n",
        "    else:\n",
        "      print(\"normal\")\n",
        "\n",
        "MAP = cal_map(patient)\n",
        "map_decision(MAP)\n",
        "\n",
        "    \n",
        "\n"
      ],
      "execution_count": 1,
      "outputs": [
        {
          "output_type": "stream",
          "text": [
            "normal\n"
          ],
          "name": "stdout"
        }
      ]
    },
    {
      "cell_type": "code",
      "metadata": {
        "id": "MI0miOvJ2Ad_",
        "colab_type": "code",
        "colab": {}
      },
      "source": [
        ""
      ],
      "execution_count": 0,
      "outputs": []
    }
  ]
}