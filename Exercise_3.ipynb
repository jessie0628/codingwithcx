{
  "nbformat": 4,
  "nbformat_minor": 0,
  "metadata": {
    "colab": {
      "name": "Exercise_3.ipynb",
      "provenance": [],
      "collapsed_sections": [],
      "include_colab_link": true
    },
    "kernelspec": {
      "name": "python3",
      "display_name": "Python 3"
    }
  },
  "cells": [
    {
      "cell_type": "markdown",
      "metadata": {
        "id": "view-in-github",
        "colab_type": "text"
      },
      "source": [
        "<a href=\"https://colab.research.google.com/github/jessie0628/codingwithcx/blob/master/Exercise_3.ipynb\" target=\"_parent\"><img src=\"https://colab.research.google.com/assets/colab-badge.svg\" alt=\"Open In Colab\"/></a>"
      ]
    },
    {
      "cell_type": "markdown",
      "metadata": {
        "id": "Q__hwVrDS4LI",
        "colab_type": "text"
      },
      "source": [
        "# Introduction\n",
        "\n",
        "This tutorial will teach you how to access real life data and understand it visually.\n",
        "\n",
        "For this article, we employ one of the data sets available in Munchen.de, containing information about Oktoberfest since 1985 until 2018. Although most of the years are not available (Oktoberfest started in 1810!), the data set provides valuable insights about how the festival evolved over the last 30 years.\n",
        "\n",
        "So, let's jump into it!"
      ]
    },
    {
      "cell_type": "markdown",
      "metadata": {
        "id": "CSD3eMK0WtSq",
        "colab_type": "text"
      },
      "source": [
        "# Libraries to Use\n",
        "\n",
        "To evaluate the dataset, we use three different Python libraries: Pandas, Matplotlib, and Plotly.\n",
        "\n",
        "- [Pandas](https://pandas.pydata.org/index.html) is a Python open source library for data science that allows us to easily work with structured data, such as **csv files, SQL tables, or Excel spreadsheets**. It provides tools for reading and writing data in different formats, carrying out exploratory analysis, and cleaning data (reshaping data sets, handling missing data, or merging data sets).\n",
        "\n",
        "- [Matplotlib](https://matplotlib.org/) is a Python 2D plotting library that can be used in Python scripts, Jupyter notebooks, and IPython shells, among other environments, producing high quality figures. Matplotlib offers a wide range of visualizations such as histograms, bar chart, scatter plots, box plots, or pie charts.\n",
        "\n",
        "- [Plotly Python](https://plot.ly/python/) graphing library provides as Matplotlib a wide range of visualizations. But, unlike Matplotlib the visualizations provided by Plotly are interactive and more intuitive. 😉\n",
        "After this overview about the libraries used in this analysis, we are ready to start the next step: exploratory data analysis and data cleaning.\n",
        "\n",
        "After this overview of the libraries used in this analysis, we ready to load the dataset."
      ]
    },
    {
      "cell_type": "markdown",
      "metadata": {
        "id": "t5wWxAWGS4Gw",
        "colab_type": "text"
      },
      "source": [
        "# Acquiring the data\n",
        "\n",
        "You don't need to search the Muenchen.de website for the data. \n",
        "\n",
        "We provide a link to the data in the form of a csv file here :\n",
        "https://drive.google.com/open?id=1pHNxZVrlcKh5usWoNC_V7gR2WdeDutjv\n",
        "\n",
        "Click on the shareable link and the CSV file will be shared with your personal google drive.\n",
        "\n"
      ]
    },
    {
      "cell_type": "markdown",
      "metadata": {
        "id": "T3x1z1yTVQwK",
        "colab_type": "text"
      },
      "source": [
        "Once you have the file in your drive, you need to upload it into Colaboratory.\n",
        "\n",
        "First, run the following code:"
      ]
    },
    {
      "cell_type": "code",
      "metadata": {
        "id": "ui_PGxHPKG_U",
        "colab_type": "code",
        "colab": {}
      },
      "source": [
        "# Code to read csv file into Colaboratory:\n",
        "\n",
        "!pip install -U -q PyDrive\n",
        "\n",
        "from pydrive.auth import GoogleAuth\n",
        "from pydrive.drive import GoogleDrive\n",
        "from google.colab import auth\n",
        "from oauth2client.client import GoogleCredentials\n",
        "# Authenticate and create the PyDrive client.\n",
        "auth.authenticate_user()\n",
        "gauth = GoogleAuth()\n",
        "gauth.credentials = GoogleCredentials.get_application_default()\n",
        "drive = GoogleDrive(gauth)"
      ],
      "execution_count": 0,
      "outputs": []
    },
    {
      "cell_type": "markdown",
      "metadata": {
        "id": "cl3Ymx_CWK0n",
        "colab_type": "text"
      },
      "source": [
        "When prompted, click on the link to get authentication to allow Google to access your Drive. You should see a screen with “Google Cloud SDK wants to access your Google Account” at the top. After you allow permission, copy the given verification code and paste it in the box in Colab.\n",
        "\n",
        "Once you have completed verification, go to the CSV file in Google Drive, right-click on it and select “Get shareable link”. The link will be copied into your clipboard. Paste this link into a string variable in Colab.\n"
      ]
    },
    {
      "cell_type": "code",
      "metadata": {
        "id": "0y1X3i20MYMp",
        "colab_type": "code",
        "colab": {}
      },
      "source": [
        "link = \"\" # The shareable link\n"
      ],
      "execution_count": 0,
      "outputs": []
    },
    {
      "cell_type": "markdown",
      "metadata": {
        "id": "g4UIXiriWaot",
        "colab_type": "text"
      },
      "source": [
        "What you want is the id portion after the equal sign. To get that portion, type in the following code:"
      ]
    },
    {
      "cell_type": "code",
      "metadata": {
        "id": "lIem0MFqWaRr",
        "colab_type": "code",
        "colab": {}
      },
      "source": [
        "\n",
        "fluff, id = link.split('=')\n",
        "print (id) # Verify that you have everything after '='"
      ],
      "execution_count": 0,
      "outputs": []
    },
    {
      "cell_type": "markdown",
      "metadata": {
        "id": "wp0m-80jWgOb",
        "colab_type": "text"
      },
      "source": [
        "Finally, type in the following code to get this file into a dataframe (Pandas)"
      ]
    },
    {
      "cell_type": "code",
      "metadata": {
        "id": "le6JtH9zNTH8",
        "colab_type": "code",
        "colab": {}
      },
      "source": [
        "downloaded = drive.CreateFile({'id':id}) \n",
        "downloaded.GetContentFile('oktoberfestgesamt19852018.csv')  "
      ],
      "execution_count": 0,
      "outputs": []
    },
    {
      "cell_type": "markdown",
      "metadata": {
        "id": "AtEimWqvY4tx",
        "colab_type": "text"
      },
      "source": [
        "We load the CSV data into a Pandas data frame using the [pandas.read_csv](https://pandas.pydata.org/pandas-docs/stable/reference/api/pandas.read_csv.html) function and visualize the first 5 rows using the [pandas.DataFrame.head](https://pandas.pydata.org/pandas-docs/stable/reference/api/pandas.DataFrame.head.html) method."
      ]
    },
    {
      "cell_type": "code",
      "metadata": {
        "id": "GTp2mHx0YzmU",
        "colab_type": "code",
        "outputId": "cf2061f9-e2ab-4f7d-a07e-c8bd74934577",
        "colab": {
          "base_uri": "https://localhost:8080/",
          "height": 204
        }
      },
      "source": [
        "import pandas as pd\n",
        "import matplotlib.pyplot as plt\n",
        "plt.style.use('ggplot')\n",
        "\n",
        "# Load data into a pandas dataframe\n",
        "df_oktoberfest = pd.read_csv('oktoberfestgesamt19852018.csv')\n",
        "\n",
        "# Print first 5 rows of the dataframe\n",
        "df_oktoberfest.head()"
      ],
      "execution_count": 0,
      "outputs": [
        {
          "output_type": "execute_result",
          "data": {
            "text/html": [
              "<div>\n",
              "<style scoped>\n",
              "    .dataframe tbody tr th:only-of-type {\n",
              "        vertical-align: middle;\n",
              "    }\n",
              "\n",
              "    .dataframe tbody tr th {\n",
              "        vertical-align: top;\n",
              "    }\n",
              "\n",
              "    .dataframe thead th {\n",
              "        text-align: right;\n",
              "    }\n",
              "</style>\n",
              "<table border=\"1\" class=\"dataframe\">\n",
              "  <thead>\n",
              "    <tr style=\"text-align: right;\">\n",
              "      <th></th>\n",
              "      <th>jahr</th>\n",
              "      <th>dauer</th>\n",
              "      <th>besucher_gesamt</th>\n",
              "      <th>besucher_tag</th>\n",
              "      <th>bier_preis</th>\n",
              "      <th>bier_konsum</th>\n",
              "      <th>hendl_preis</th>\n",
              "      <th>hendl_konsum</th>\n",
              "    </tr>\n",
              "  </thead>\n",
              "  <tbody>\n",
              "    <tr>\n",
              "      <th>0</th>\n",
              "      <td>1985</td>\n",
              "      <td>16</td>\n",
              "      <td>7.1</td>\n",
              "      <td>444</td>\n",
              "      <td>3.20</td>\n",
              "      <td>54541</td>\n",
              "      <td>4.77</td>\n",
              "      <td>629520</td>\n",
              "    </tr>\n",
              "    <tr>\n",
              "      <th>1</th>\n",
              "      <td>1986</td>\n",
              "      <td>16</td>\n",
              "      <td>6.7</td>\n",
              "      <td>419</td>\n",
              "      <td>3.30</td>\n",
              "      <td>53807</td>\n",
              "      <td>3.92</td>\n",
              "      <td>698137</td>\n",
              "    </tr>\n",
              "    <tr>\n",
              "      <th>2</th>\n",
              "      <td>1987</td>\n",
              "      <td>16</td>\n",
              "      <td>6.5</td>\n",
              "      <td>406</td>\n",
              "      <td>3.37</td>\n",
              "      <td>51842</td>\n",
              "      <td>3.98</td>\n",
              "      <td>732859</td>\n",
              "    </tr>\n",
              "    <tr>\n",
              "      <th>3</th>\n",
              "      <td>1988</td>\n",
              "      <td>16</td>\n",
              "      <td>5.7</td>\n",
              "      <td>356</td>\n",
              "      <td>3.45</td>\n",
              "      <td>50951</td>\n",
              "      <td>4.19</td>\n",
              "      <td>720139</td>\n",
              "    </tr>\n",
              "    <tr>\n",
              "      <th>4</th>\n",
              "      <td>1989</td>\n",
              "      <td>16</td>\n",
              "      <td>6.2</td>\n",
              "      <td>388</td>\n",
              "      <td>3.60</td>\n",
              "      <td>51241</td>\n",
              "      <td>4.22</td>\n",
              "      <td>775674</td>\n",
              "    </tr>\n",
              "  </tbody>\n",
              "</table>\n",
              "</div>"
            ],
            "text/plain": [
              "   jahr  dauer  besucher_gesamt  ...  bier_konsum  hendl_preis  hendl_konsum\n",
              "0  1985     16              7.1  ...        54541         4.77        629520\n",
              "1  1986     16              6.7  ...        53807         3.92        698137\n",
              "2  1987     16              6.5  ...        51842         3.98        732859\n",
              "3  1988     16              5.7  ...        50951         4.19        720139\n",
              "4  1989     16              6.2  ...        51241         4.22        775674\n",
              "\n",
              "[5 rows x 8 columns]"
            ]
          },
          "metadata": {
            "tags": []
          },
          "execution_count": 69
        }
      ]
    },
    {
      "cell_type": "markdown",
      "metadata": {
        "id": "4KRjkk3dZS5h",
        "colab_type": "text"
      },
      "source": [
        "The data set contains 8 columns: (1) year, (2) duration, (3) visitors in total, (4) visitors per day, (5) price of beer, (6) consumption of beer, (7) price of chicken, (8) consumption of chicken."
      ]
    },
    {
      "cell_type": "markdown",
      "metadata": {
        "id": "xLwbXN1xnVKe",
        "colab_type": "text"
      },
      "source": [
        "Let's try the [pandas.DataFrame.iloc](https://pandas.pydata.org/pandas-docs/stable/reference/api/pandas.DataFrame.iloc.html) function to view specific years. This function takes the index of each row as the argument, and outputs the corresponding row."
      ]
    },
    {
      "cell_type": "code",
      "metadata": {
        "id": "OxjUJ-4mqppV",
        "colab_type": "code",
        "outputId": "14f10408-a42e-4136-8ce7-bce95ccfc73b",
        "colab": {
          "base_uri": "https://localhost:8080/",
          "height": 80
        }
      },
      "source": [
        "df_oktoberfest.iloc[[0]]"
      ],
      "execution_count": 0,
      "outputs": [
        {
          "output_type": "execute_result",
          "data": {
            "text/html": [
              "<div>\n",
              "<style scoped>\n",
              "    .dataframe tbody tr th:only-of-type {\n",
              "        vertical-align: middle;\n",
              "    }\n",
              "\n",
              "    .dataframe tbody tr th {\n",
              "        vertical-align: top;\n",
              "    }\n",
              "\n",
              "    .dataframe thead th {\n",
              "        text-align: right;\n",
              "    }\n",
              "</style>\n",
              "<table border=\"1\" class=\"dataframe\">\n",
              "  <thead>\n",
              "    <tr style=\"text-align: right;\">\n",
              "      <th></th>\n",
              "      <th>jahr</th>\n",
              "      <th>dauer</th>\n",
              "      <th>besucher_gesamt</th>\n",
              "      <th>besucher_tag</th>\n",
              "      <th>bier_preis</th>\n",
              "      <th>bier_konsum</th>\n",
              "      <th>hendl_preis</th>\n",
              "      <th>hendl_konsum</th>\n",
              "    </tr>\n",
              "  </thead>\n",
              "  <tbody>\n",
              "    <tr>\n",
              "      <th>1</th>\n",
              "      <td>1986</td>\n",
              "      <td>16</td>\n",
              "      <td>6.7</td>\n",
              "      <td>419</td>\n",
              "      <td>3.3</td>\n",
              "      <td>53807</td>\n",
              "      <td>3.92</td>\n",
              "      <td>698137</td>\n",
              "    </tr>\n",
              "  </tbody>\n",
              "</table>\n",
              "</div>"
            ],
            "text/plain": [
              "   jahr  dauer  besucher_gesamt  ...  bier_konsum  hendl_preis  hendl_konsum\n",
              "1  1986     16              6.7  ...        53807         3.92        698137\n",
              "\n",
              "[1 rows x 8 columns]"
            ]
          },
          "metadata": {
            "tags": []
          },
          "execution_count": 72
        }
      ]
    },
    {
      "cell_type": "markdown",
      "metadata": {
        "id": "eUVvEsd4q1_M",
        "colab_type": "text"
      },
      "source": [
        "You can get multiple rows like this.\n"
      ]
    },
    {
      "cell_type": "code",
      "metadata": {
        "id": "mgS-YOloq7Xo",
        "colab_type": "code",
        "outputId": "377440e8-d6f1-429c-ef5a-88e462778779",
        "colab": {
          "base_uri": "https://localhost:8080/",
          "height": 142
        }
      },
      "source": [
        "df_oktoberfest.iloc[[0,1,2]]"
      ],
      "execution_count": 0,
      "outputs": [
        {
          "output_type": "execute_result",
          "data": {
            "text/html": [
              "<div>\n",
              "<style scoped>\n",
              "    .dataframe tbody tr th:only-of-type {\n",
              "        vertical-align: middle;\n",
              "    }\n",
              "\n",
              "    .dataframe tbody tr th {\n",
              "        vertical-align: top;\n",
              "    }\n",
              "\n",
              "    .dataframe thead th {\n",
              "        text-align: right;\n",
              "    }\n",
              "</style>\n",
              "<table border=\"1\" class=\"dataframe\">\n",
              "  <thead>\n",
              "    <tr style=\"text-align: right;\">\n",
              "      <th></th>\n",
              "      <th>jahr</th>\n",
              "      <th>dauer</th>\n",
              "      <th>besucher_gesamt</th>\n",
              "      <th>besucher_tag</th>\n",
              "      <th>bier_preis</th>\n",
              "      <th>bier_konsum</th>\n",
              "      <th>hendl_preis</th>\n",
              "      <th>hendl_konsum</th>\n",
              "    </tr>\n",
              "  </thead>\n",
              "  <tbody>\n",
              "    <tr>\n",
              "      <th>0</th>\n",
              "      <td>1985</td>\n",
              "      <td>16</td>\n",
              "      <td>7.1</td>\n",
              "      <td>444</td>\n",
              "      <td>3.20</td>\n",
              "      <td>54541</td>\n",
              "      <td>4.77</td>\n",
              "      <td>629520</td>\n",
              "    </tr>\n",
              "    <tr>\n",
              "      <th>1</th>\n",
              "      <td>1986</td>\n",
              "      <td>16</td>\n",
              "      <td>6.7</td>\n",
              "      <td>419</td>\n",
              "      <td>3.30</td>\n",
              "      <td>53807</td>\n",
              "      <td>3.92</td>\n",
              "      <td>698137</td>\n",
              "    </tr>\n",
              "    <tr>\n",
              "      <th>2</th>\n",
              "      <td>1987</td>\n",
              "      <td>16</td>\n",
              "      <td>6.5</td>\n",
              "      <td>406</td>\n",
              "      <td>3.37</td>\n",
              "      <td>51842</td>\n",
              "      <td>3.98</td>\n",
              "      <td>732859</td>\n",
              "    </tr>\n",
              "  </tbody>\n",
              "</table>\n",
              "</div>"
            ],
            "text/plain": [
              "   jahr  dauer  besucher_gesamt  ...  bier_konsum  hendl_preis  hendl_konsum\n",
              "0  1985     16              7.1  ...        54541         4.77        629520\n",
              "1  1986     16              6.7  ...        53807         3.92        698137\n",
              "2  1987     16              6.5  ...        51842         3.98        732859\n",
              "\n",
              "[3 rows x 8 columns]"
            ]
          },
          "metadata": {
            "tags": []
          },
          "execution_count": 73
        }
      ]
    },
    {
      "cell_type": "markdown",
      "metadata": {
        "id": "SaVpsCoUrABs",
        "colab_type": "text"
      },
      "source": [
        "Now, let's try to do some data anlaysis. One of the biggest change in German economy was the conversion from Deutsche Mark to Euro. This was roughly around 1999 to 2000. Let's check the data from that years."
      ]
    },
    {
      "cell_type": "code",
      "metadata": {
        "id": "UKBXlRlXnDLA",
        "colab_type": "code",
        "outputId": "bcafdfeb-c2d8-4616-dc4a-b740fbffded6",
        "colab": {
          "base_uri": "https://localhost:8080/",
          "height": 255
        }
      },
      "source": [
        "df_oktoberfest.iloc[[12,13,14,15,16,17],:]"
      ],
      "execution_count": 0,
      "outputs": [
        {
          "output_type": "execute_result",
          "data": {
            "text/html": [
              "<div>\n",
              "<style scoped>\n",
              "    .dataframe tbody tr th:only-of-type {\n",
              "        vertical-align: middle;\n",
              "    }\n",
              "\n",
              "    .dataframe tbody tr th {\n",
              "        vertical-align: top;\n",
              "    }\n",
              "\n",
              "    .dataframe thead th {\n",
              "        text-align: right;\n",
              "    }\n",
              "</style>\n",
              "<table border=\"1\" class=\"dataframe\">\n",
              "  <thead>\n",
              "    <tr style=\"text-align: right;\">\n",
              "      <th></th>\n",
              "      <th>jahr</th>\n",
              "      <th>dauer</th>\n",
              "      <th>besucher_gesamt</th>\n",
              "      <th>besucher_tag</th>\n",
              "      <th>bier_preis</th>\n",
              "      <th>bier_konsum</th>\n",
              "      <th>hendl_preis</th>\n",
              "      <th>hendl_konsum</th>\n",
              "    </tr>\n",
              "  </thead>\n",
              "  <tbody>\n",
              "    <tr>\n",
              "      <th>12</th>\n",
              "      <td>1997</td>\n",
              "      <td>16</td>\n",
              "      <td>6.4</td>\n",
              "      <td>400</td>\n",
              "      <td>5.45</td>\n",
              "      <td>55891</td>\n",
              "      <td>5.38</td>\n",
              "      <td>699562</td>\n",
              "    </tr>\n",
              "    <tr>\n",
              "      <th>13</th>\n",
              "      <td>1998</td>\n",
              "      <td>16</td>\n",
              "      <td>6.5</td>\n",
              "      <td>406</td>\n",
              "      <td>5.60</td>\n",
              "      <td>54782</td>\n",
              "      <td>5.34</td>\n",
              "      <td>603746</td>\n",
              "    </tr>\n",
              "    <tr>\n",
              "      <th>14</th>\n",
              "      <td>1999</td>\n",
              "      <td>16</td>\n",
              "      <td>6.5</td>\n",
              "      <td>406</td>\n",
              "      <td>5.80</td>\n",
              "      <td>60054</td>\n",
              "      <td>5.38</td>\n",
              "      <td>609661</td>\n",
              "    </tr>\n",
              "    <tr>\n",
              "      <th>15</th>\n",
              "      <td>2000</td>\n",
              "      <td>18</td>\n",
              "      <td>6.9</td>\n",
              "      <td>383</td>\n",
              "      <td>6.35</td>\n",
              "      <td>64591</td>\n",
              "      <td>7.85</td>\n",
              "      <td>681242</td>\n",
              "    </tr>\n",
              "    <tr>\n",
              "      <th>16</th>\n",
              "      <td>2001</td>\n",
              "      <td>16</td>\n",
              "      <td>5.5</td>\n",
              "      <td>344</td>\n",
              "      <td>6.47</td>\n",
              "      <td>48698</td>\n",
              "      <td>8.12</td>\n",
              "      <td>351705</td>\n",
              "    </tr>\n",
              "    <tr>\n",
              "      <th>17</th>\n",
              "      <td>2002</td>\n",
              "      <td>16</td>\n",
              "      <td>5.9</td>\n",
              "      <td>369</td>\n",
              "      <td>6.75</td>\n",
              "      <td>57614</td>\n",
              "      <td>8.10</td>\n",
              "      <td>459259</td>\n",
              "    </tr>\n",
              "  </tbody>\n",
              "</table>\n",
              "</div>"
            ],
            "text/plain": [
              "    jahr  dauer  besucher_gesamt  ...  bier_konsum  hendl_preis  hendl_konsum\n",
              "12  1997     16              6.4  ...        55891         5.38        699562\n",
              "13  1998     16              6.5  ...        54782         5.34        603746\n",
              "14  1999     16              6.5  ...        60054         5.38        609661\n",
              "15  2000     18              6.9  ...        64591         7.85        681242\n",
              "16  2001     16              5.5  ...        48698         8.12        351705\n",
              "17  2002     16              5.9  ...        57614         8.10        459259\n",
              "\n",
              "[6 rows x 8 columns]"
            ]
          },
          "metadata": {
            "tags": []
          },
          "execution_count": 74
        }
      ]
    },
    {
      "cell_type": "markdown",
      "metadata": {
        "id": "7SbycDNZn0id",
        "colab_type": "text"
      },
      "source": [
        "From 1999 to 2000 there is a sudden increase in the beer and chicken price. This can be attributed to the conversion of Deutsche Mark to Euro as the official currency of Germany."
      ]
    },
    {
      "cell_type": "markdown",
      "metadata": {
        "id": "8jGuWNCws9xt",
        "colab_type": "text"
      },
      "source": [
        "We set year as the index of the data frame. To easily access the information of different years."
      ]
    },
    {
      "cell_type": "code",
      "metadata": {
        "id": "5QStICAAaD9u",
        "colab_type": "code",
        "outputId": "d797c7e8-eaf7-4392-d6ca-73c0ee31cd89",
        "colab": {
          "base_uri": "https://localhost:8080/",
          "height": 235
        }
      },
      "source": [
        "# Set year as the index of the data frame\n",
        "df_oktoberfest.set_index('jahr', inplace=True)\n",
        "\n",
        "\n",
        "# Print first 5 rows of the dataframe\n",
        "df_oktoberfest.head()"
      ],
      "execution_count": 0,
      "outputs": [
        {
          "output_type": "execute_result",
          "data": {
            "text/html": [
              "<div>\n",
              "<style scoped>\n",
              "    .dataframe tbody tr th:only-of-type {\n",
              "        vertical-align: middle;\n",
              "    }\n",
              "\n",
              "    .dataframe tbody tr th {\n",
              "        vertical-align: top;\n",
              "    }\n",
              "\n",
              "    .dataframe thead th {\n",
              "        text-align: right;\n",
              "    }\n",
              "</style>\n",
              "<table border=\"1\" class=\"dataframe\">\n",
              "  <thead>\n",
              "    <tr style=\"text-align: right;\">\n",
              "      <th></th>\n",
              "      <th>dauer</th>\n",
              "      <th>besucher_gesamt</th>\n",
              "      <th>besucher_tag</th>\n",
              "      <th>bier_preis</th>\n",
              "      <th>bier_konsum</th>\n",
              "      <th>hendl_preis</th>\n",
              "      <th>hendl_konsum</th>\n",
              "    </tr>\n",
              "    <tr>\n",
              "      <th>jahr</th>\n",
              "      <th></th>\n",
              "      <th></th>\n",
              "      <th></th>\n",
              "      <th></th>\n",
              "      <th></th>\n",
              "      <th></th>\n",
              "      <th></th>\n",
              "    </tr>\n",
              "  </thead>\n",
              "  <tbody>\n",
              "    <tr>\n",
              "      <th>1985</th>\n",
              "      <td>16</td>\n",
              "      <td>7.1</td>\n",
              "      <td>444</td>\n",
              "      <td>3.20</td>\n",
              "      <td>54541</td>\n",
              "      <td>4.77</td>\n",
              "      <td>629520</td>\n",
              "    </tr>\n",
              "    <tr>\n",
              "      <th>1986</th>\n",
              "      <td>16</td>\n",
              "      <td>6.7</td>\n",
              "      <td>419</td>\n",
              "      <td>3.30</td>\n",
              "      <td>53807</td>\n",
              "      <td>3.92</td>\n",
              "      <td>698137</td>\n",
              "    </tr>\n",
              "    <tr>\n",
              "      <th>1987</th>\n",
              "      <td>16</td>\n",
              "      <td>6.5</td>\n",
              "      <td>406</td>\n",
              "      <td>3.37</td>\n",
              "      <td>51842</td>\n",
              "      <td>3.98</td>\n",
              "      <td>732859</td>\n",
              "    </tr>\n",
              "    <tr>\n",
              "      <th>1988</th>\n",
              "      <td>16</td>\n",
              "      <td>5.7</td>\n",
              "      <td>356</td>\n",
              "      <td>3.45</td>\n",
              "      <td>50951</td>\n",
              "      <td>4.19</td>\n",
              "      <td>720139</td>\n",
              "    </tr>\n",
              "    <tr>\n",
              "      <th>1989</th>\n",
              "      <td>16</td>\n",
              "      <td>6.2</td>\n",
              "      <td>388</td>\n",
              "      <td>3.60</td>\n",
              "      <td>51241</td>\n",
              "      <td>4.22</td>\n",
              "      <td>775674</td>\n",
              "    </tr>\n",
              "  </tbody>\n",
              "</table>\n",
              "</div>"
            ],
            "text/plain": [
              "      dauer  besucher_gesamt  ...  hendl_preis  hendl_konsum\n",
              "jahr                          ...                           \n",
              "1985     16              7.1  ...         4.77        629520\n",
              "1986     16              6.7  ...         3.92        698137\n",
              "1987     16              6.5  ...         3.98        732859\n",
              "1988     16              5.7  ...         4.19        720139\n",
              "1989     16              6.2  ...         4.22        775674\n",
              "\n",
              "[5 rows x 7 columns]"
            ]
          },
          "metadata": {
            "tags": []
          },
          "execution_count": 78
        }
      ]
    },
    {
      "cell_type": "markdown",
      "metadata": {
        "id": "Qoj1o8YVrn7e",
        "colab_type": "text"
      },
      "source": [
        "# Analysing the Data\n",
        "\n",
        "Exploratory data analysis allow us to get a feeling about the data set and to get the data set ready to easily draw conclusions using it.\n",
        "Let's try to answer some common questions.\n",
        "\n",
        "### How did beer price change over the last 33 years? Is there a tendency?"
      ]
    },
    {
      "cell_type": "code",
      "metadata": {
        "id": "zTxKuQ4nsd2_",
        "colab_type": "code",
        "outputId": "ec7e1c96-f2b8-4af1-fd0f-3e28c8a7c3c1",
        "colab": {
          "base_uri": "https://localhost:8080/",
          "height": 565
        }
      },
      "source": [
        "# Plot beer price\n",
        "df_oktoberfest.plot(kind='line', y=['bier_preis'], figsize=(15,8), linewidth=3, fontsize=16)\n",
        "\n",
        "# Title, labels and legend\n",
        "plt.legend(labels=['Beer price'],fontsize=16)\n",
        "plt.xlabel('Year',fontsize=16)\n",
        "plt.ylabel('Price (Euro)',fontsize=16)\n",
        "plt.title('Evolution of prices from 1985 until 2018',fontsize=20)"
      ],
      "execution_count": 0,
      "outputs": [
        {
          "output_type": "execute_result",
          "data": {
            "text/plain": [
              "Text(0.5, 1.0, 'Evolution of prices from 1985 until 2018')"
            ]
          },
          "metadata": {
            "tags": []
          },
          "execution_count": 104
        },
        {
          "output_type": "display_data",
          "data": {
            "image/png": "[encoded data removed]",
            "text/plain": [
              "<Figure size 1080x576 with 1 Axes>"
            ]
          },
          "metadata": {
            "tags": []
          }
        }
      ]
    },
    {
      "cell_type": "markdown",
      "metadata": {
        "id": "66HRwWiQtg9w",
        "colab_type": "text"
      },
      "source": [
        "As we can see from the plot, the price of beer have increased steadily from 1985 until 2018,\n",
        "Matter of fact, the price in 2018 is around three times more than in 1985."
      ]
    },
    {
      "cell_type": "markdown",
      "metadata": {
        "id": "wETVrPWrt4h_",
        "colab_type": "text"
      },
      "source": [
        "Try to answer the following question yourself.\n",
        "\n",
        "### How did chicken price change over the last 33 years? "
      ]
    },
    {
      "cell_type": "code",
      "metadata": {
        "id": "Lb9R7SpjRUUW",
        "colab_type": "code",
        "colab": {}
      },
      "source": [
        "# Plot chicken price\n",
        "\n",
        "\n",
        "# Title, labels and legend"
      ],
      "execution_count": 0,
      "outputs": []
    },
    {
      "cell_type": "code",
      "metadata": {
        "id": "Sdtb1NZIuMVR",
        "colab_type": "code",
        "outputId": "d269f353-5c8e-4464-80c5-89ecfcf5f64c",
        "colab": {
          "base_uri": "https://localhost:8080/",
          "height": 51
        }
      },
      "source": [
        "# Price of a beer and a chicken in 1985\n",
        "print(df_oktoberfest.loc[1985,['bier_preis','hendl_preis']].sum())\n",
        "\n",
        "\n",
        "# Price of a beer and a chicken in 2018\n",
        "print(df_oktoberfest.loc[2018,['bier_preis','hendl_preis']].sum())\n"
      ],
      "execution_count": 0,
      "outputs": [
        {
          "output_type": "stream",
          "text": [
            "7.97\n",
            "22.97\n"
          ],
          "name": "stdout"
        }
      ]
    },
    {
      "cell_type": "markdown",
      "metadata": {
        "id": "mTFBbW69ull7",
        "colab_type": "text"
      },
      "source": [
        "So, you can see that a person in 1985 could enjoy a meal at the Oktoberfest for only 7.97 euros. Three decades later, we need almost three times more money (22.97 euros) to enjoy a meal at the festival."
      ]
    },
    {
      "cell_type": "markdown",
      "metadata": {
        "id": "-d4Imd3kvCXF",
        "colab_type": "text"
      },
      "source": [
        "Here we visualize a interactive plot of the prices"
      ]
    },
    {
      "cell_type": "code",
      "metadata": {
        "id": "mP3RedmxuYC4",
        "colab_type": "code",
        "outputId": "52a36708-b047-42e9-c256-130ae4941a24",
        "colab": {
          "base_uri": "https://localhost:8080/",
          "height": 542
        }
      },
      "source": [
        "import plotly.graph_objects as go\n",
        "\n",
        "# Interactive plots of the price of beer and chicken\n",
        "year = df_oktoberfest.index\n",
        "beer_price = df_oktoberfest.bier_preis\n",
        "chicken_price = df_oktoberfest.hendl_preis\n",
        "\n",
        "fig = go.Figure()\n",
        "\n",
        "fig.add_trace(go.Scatter(x=year, y=chicken_price,\n",
        "                    mode='lines+markers',\n",
        "                    name='Chicken'))\n",
        "\n",
        "fig.add_trace(go.Scatter(x=year, y=beer_price,\n",
        "                    mode='lines+markers',\n",
        "                    name='Beer'))\n",
        "\n",
        "# Title, labels, and background\n",
        "fig.update_layout(title='Evolution of prices from 1985 until 2018',\n",
        "                   xaxis_title='Year',\n",
        "                   yaxis_title='Price (Euro)',\n",
        "                   plot_bgcolor='white')"
      ],
      "execution_count": 0,
      "outputs": [
        {
          "output_type": "display_data",
          "data": {
            "text/html": [
              "<html>\n",
              "<head><meta charset=\"utf-8\" /></head>\n",
              "<body>\n",
              "    <div>\n",
              "            <script src=\"https://cdnjs.cloudflare.com/ajax/libs/mathjax/2.7.5/MathJax.js?config=TeX-AMS-MML_SVG\"></script><script type=\"text/javascript\">if (window.MathJax) {MathJax.Hub.Config({SVG: {font: \"STIX-Web\"}});}</script>\n",
              "                <script type=\"text/javascript\">window.PlotlyConfig = {MathJaxConfig: 'local'};</script>\n",
              "        <script src=\"https://cdn.plot.ly/plotly-latest.min.js\"></script>    \n",
              "            <div id=\"b3caf61d-fd5b-43e9-bd0d-06efc460f599\" class=\"plotly-graph-div\" style=\"height:525px; width:100%;\"></div>\n",
              "            <script type=\"text/javascript\">\n",
              "                \n",
              "                    window.PLOTLYENV=window.PLOTLYENV || {};\n",
              "                    \n",
              "                if (document.getElementById(\"b3caf61d-fd5b-43e9-bd0d-06efc460f599\")) {\n",
              "                    Plotly.newPlot(\n",
              "                        'b3caf61d-fd5b-43e9-bd0d-06efc460f599',\n",
              "                        [{\"mode\": \"lines+markers\", \"name\": \"Chicken\", \"type\": \"scatter\", \"x\": [1985, 1986, 1987, 1988, 1989, 1990, 1991, 1992, 1993, 1994, 1995, 1996, 1997, 1998, 1999, 2000, 2001, 2002, 2003, 2004, 2005, 2006, 2007, 2008, 2009, 2010, 2011, 2012, 2013, 2014, 2015, 2016, 2017, 2018], \"y\": [4.77, 3.92, 3.98, 4.19, 4.22, 4.47, 4.81, 5.11, 5.25, 5.39, 5.54, 5.45, 5.38, 5.34, 5.38, 7.85, 8.12, 8.1, 8.14, 8.28, 8.35, 8.5, 8.87, 9.06, 9.18, 9.6, 9.83, 10.07, 11.1, 10.49, 10.75, 11.0, 11.41, 11.67]}, {\"mode\": \"lines+markers\", \"name\": \"Beer\", \"type\": \"scatter\", \"x\": [1985, 1986, 1987, 1988, 1989, 1990, 1991, 1992, 1993, 1994, 1995, 1996, 1997, 1998, 1999, 2000, 2001, 2002, 2003, 2004, 2005, 2006, 2007, 2008, 2009, 2010, 2011, 2012, 2013, 2014, 2015, 2016, 2017, 2018], \"y\": [3.2, 3.3, 3.37, 3.45, 3.6, 3.77, 4.21, 4.42, 4.71, 4.89, 5.15, 5.24, 5.45, 5.6, 5.8, 6.35, 6.47, 6.75, 6.75, 7.02, 7.15, 7.42, 7.85, 8.25, 8.53, 8.79, 9.09, 9.41, 9.78, 9.98, 10.27, 10.57, 10.87, 11.3]}],\n",
              "                        {\"plot_bgcolor\": \"white\", \"template\": {\"data\": {\"bar\": [{\"error_x\": {\"color\": \"#2a3f5f\"}, \"error_y\": {\"color\": \"#2a3f5f\"}, \"marker\": {\"line\": {\"color\": \"#E5ECF6\", \"width\": 0.5}}, \"type\": \"bar\"}], \"barpolar\": [{\"marker\": {\"line\": {\"color\": \"#E5ECF6\", \"width\": 0.5}}, \"type\": \"barpolar\"}], \"carpet\": [{\"aaxis\": {\"endlinecolor\": \"#2a3f5f\", \"gridcolor\": \"white\", \"linecolor\": \"white\", \"minorgridcolor\": \"white\", \"startlinecolor\": \"#2a3f5f\"}, \"baxis\": {\"endlinecolor\": \"#2a3f5f\", \"gridcolor\": \"white\", \"linecolor\": \"white\", \"minorgridcolor\": \"white\", \"startlinecolor\": \"#2a3f5f\"}, \"type\": \"carpet\"}], \"choropleth\": [{\"colorbar\": {\"outlinewidth\": 0, \"ticks\": \"\"}, \"type\": \"choropleth\"}], \"contour\": [{\"colorbar\": {\"outlinewidth\": 0, \"ticks\": \"\"}, \"colorscale\": [[0.0, \"#0d0887\"], [0.1111111111111111, \"#46039f\"], [0.2222222222222222, \"#7201a8\"], [0.3333333333333333, \"#9c179e\"], [0.4444444444444444, \"#bd3786\"], [0.5555555555555556, \"#d8576b\"], [0.6666666666666666, \"#ed7953\"], [0.7777777777777778, \"#fb9f3a\"], [0.8888888888888888, \"#fdca26\"], [1.0, \"#f0f921\"]], \"type\": \"contour\"}], \"contourcarpet\": [{\"colorbar\": {\"outlinewidth\": 0, \"ticks\": \"\"}, \"type\": \"contourcarpet\"}], \"heatmap\": [{\"colorbar\": {\"outlinewidth\": 0, \"ticks\": \"\"}, \"colorscale\": [[0.0, \"#0d0887\"], [0.1111111111111111, \"#46039f\"], [0.2222222222222222, \"#7201a8\"], [0.3333333333333333, \"#9c179e\"], [0.4444444444444444, \"#bd3786\"], [0.5555555555555556, \"#d8576b\"], [0.6666666666666666, \"#ed7953\"], [0.7777777777777778, \"#fb9f3a\"], [0.8888888888888888, \"#fdca26\"], [1.0, \"#f0f921\"]], \"type\": \"heatmap\"}], \"heatmapgl\": [{\"colorbar\": {\"outlinewidth\": 0, \"ticks\": \"\"}, \"colorscale\": [[0.0, \"#0d0887\"], [0.1111111111111111, \"#46039f\"], [0.2222222222222222, \"#7201a8\"], [0.3333333333333333, \"#9c179e\"], [0.4444444444444444, \"#bd3786\"], [0.5555555555555556, \"#d8576b\"], [0.6666666666666666, \"#ed7953\"], [0.7777777777777778, \"#fb9f3a\"], [0.8888888888888888, \"#fdca26\"], [1.0, \"#f0f921\"]], \"type\": \"heatmapgl\"}], \"histogram\": [{\"marker\": {\"colorbar\": {\"outlinewidth\": 0, \"ticks\": \"\"}}, \"type\": \"histogram\"}], \"histogram2d\": [{\"colorbar\": {\"outlinewidth\": 0, \"ticks\": \"\"}, \"colorscale\": [[0.0, \"#0d0887\"], [0.1111111111111111, \"#46039f\"], [0.2222222222222222, \"#7201a8\"], [0.3333333333333333, \"#9c179e\"], [0.4444444444444444, \"#bd3786\"], [0.5555555555555556, \"#d8576b\"], [0.6666666666666666, \"#ed7953\"], [0.7777777777777778, \"#fb9f3a\"], [0.8888888888888888, \"#fdca26\"], [1.0, \"#f0f921\"]], \"type\": \"histogram2d\"}], \"histogram2dcontour\": [{\"colorbar\": {\"outlinewidth\": 0, \"ticks\": \"\"}, \"colorscale\": [[0.0, \"#0d0887\"], [0.1111111111111111, \"#46039f\"], [0.2222222222222222, \"#7201a8\"], [0.3333333333333333, \"#9c179e\"], [0.4444444444444444, \"#bd3786\"], [0.5555555555555556, \"#d8576b\"], [0.6666666666666666, \"#ed7953\"], [0.7777777777777778, \"#fb9f3a\"], [0.8888888888888888, \"#fdca26\"], [1.0, \"#f0f921\"]], \"type\": \"histogram2dcontour\"}], \"mesh3d\": [{\"colorbar\": {\"outlinewidth\": 0, \"ticks\": \"\"}, \"type\": \"mesh3d\"}], \"parcoords\": [{\"line\": {\"colorbar\": {\"outlinewidth\": 0, \"ticks\": \"\"}}, \"type\": \"parcoords\"}], \"scatter\": [{\"marker\": {\"colorbar\": {\"outlinewidth\": 0, \"ticks\": \"\"}}, \"type\": \"scatter\"}], \"scatter3d\": [{\"line\": {\"colorbar\": {\"outlinewidth\": 0, \"ticks\": \"\"}}, \"marker\": {\"colorbar\": {\"outlinewidth\": 0, \"ticks\": \"\"}}, \"type\": \"scatter3d\"}], \"scattercarpet\": [{\"marker\": {\"colorbar\": {\"outlinewidth\": 0, \"ticks\": \"\"}}, \"type\": \"scattercarpet\"}], \"scattergeo\": [{\"marker\": {\"colorbar\": {\"outlinewidth\": 0, \"ticks\": \"\"}}, \"type\": \"scattergeo\"}], \"scattergl\": [{\"marker\": {\"colorbar\": {\"outlinewidth\": 0, \"ticks\": \"\"}}, \"type\": \"scattergl\"}], \"scattermapbox\": [{\"marker\": {\"colorbar\": {\"outlinewidth\": 0, \"ticks\": \"\"}}, \"type\": \"scattermapbox\"}], \"scatterpolar\": [{\"marker\": {\"colorbar\": {\"outlinewidth\": 0, \"ticks\": \"\"}}, \"type\": \"scatterpolar\"}], \"scatterpolargl\": [{\"marker\": {\"colorbar\": {\"outlinewidth\": 0, \"ticks\": \"\"}}, \"type\": \"scatterpolargl\"}], \"scatterternary\": [{\"marker\": {\"colorbar\": {\"outlinewidth\": 0, \"ticks\": \"\"}}, \"type\": \"scatterternary\"}], \"surface\": [{\"colorbar\": {\"outlinewidth\": 0, \"ticks\": \"\"}, \"colorscale\": [[0.0, \"#0d0887\"], [0.1111111111111111, \"#46039f\"], [0.2222222222222222, \"#7201a8\"], [0.3333333333333333, \"#9c179e\"], [0.4444444444444444, \"#bd3786\"], [0.5555555555555556, \"#d8576b\"], [0.6666666666666666, \"#ed7953\"], [0.7777777777777778, \"#fb9f3a\"], [0.8888888888888888, \"#fdca26\"], [1.0, \"#f0f921\"]], \"type\": \"surface\"}], \"table\": [{\"cells\": {\"fill\": {\"color\": \"#EBF0F8\"}, \"line\": {\"color\": \"white\"}}, \"header\": {\"fill\": {\"color\": \"#C8D4E3\"}, \"line\": {\"color\": \"white\"}}, \"type\": \"table\"}]}, \"layout\": {\"annotationdefaults\": {\"arrowcolor\": \"#2a3f5f\", \"arrowhead\": 0, \"arrowwidth\": 1}, \"colorscale\": {\"diverging\": [[0, \"#8e0152\"], [0.1, \"#c51b7d\"], [0.2, \"#de77ae\"], [0.3, \"#f1b6da\"], [0.4, \"#fde0ef\"], [0.5, \"#f7f7f7\"], [0.6, \"#e6f5d0\"], [0.7, \"#b8e186\"], [0.8, \"#7fbc41\"], [0.9, \"#4d9221\"], [1, \"#276419\"]], \"sequential\": [[0.0, \"#0d0887\"], [0.1111111111111111, \"#46039f\"], [0.2222222222222222, \"#7201a8\"], [0.3333333333333333, \"#9c179e\"], [0.4444444444444444, \"#bd3786\"], [0.5555555555555556, \"#d8576b\"], [0.6666666666666666, \"#ed7953\"], [0.7777777777777778, \"#fb9f3a\"], [0.8888888888888888, \"#fdca26\"], [1.0, \"#f0f921\"]], \"sequentialminus\": [[0.0, \"#0d0887\"], [0.1111111111111111, \"#46039f\"], [0.2222222222222222, \"#7201a8\"], [0.3333333333333333, \"#9c179e\"], [0.4444444444444444, \"#bd3786\"], [0.5555555555555556, \"#d8576b\"], [0.6666666666666666, \"#ed7953\"], [0.7777777777777778, \"#fb9f3a\"], [0.8888888888888888, \"#fdca26\"], [1.0, \"#f0f921\"]]}, \"colorway\": [\"#636efa\", \"#EF553B\", \"#00cc96\", \"#ab63fa\", \"#FFA15A\", \"#19d3f3\", \"#FF6692\", \"#B6E880\", \"#FF97FF\", \"#FECB52\"], \"font\": {\"color\": \"#2a3f5f\"}, \"geo\": {\"bgcolor\": \"white\", \"lakecolor\": \"white\", \"landcolor\": \"#E5ECF6\", \"showlakes\": true, \"showland\": true, \"subunitcolor\": \"white\"}, \"hoverlabel\": {\"align\": \"left\"}, \"hovermode\": \"closest\", \"mapbox\": {\"style\": \"light\"}, \"paper_bgcolor\": \"white\", \"plot_bgcolor\": \"#E5ECF6\", \"polar\": {\"angularaxis\": {\"gridcolor\": \"white\", \"linecolor\": \"white\", \"ticks\": \"\"}, \"bgcolor\": \"#E5ECF6\", \"radialaxis\": {\"gridcolor\": \"white\", \"linecolor\": \"white\", \"ticks\": \"\"}}, \"scene\": {\"xaxis\": {\"backgroundcolor\": \"#E5ECF6\", \"gridcolor\": \"white\", \"gridwidth\": 2, \"linecolor\": \"white\", \"showbackground\": true, \"ticks\": \"\", \"zerolinecolor\": \"white\"}, \"yaxis\": {\"backgroundcolor\": \"#E5ECF6\", \"gridcolor\": \"white\", \"gridwidth\": 2, \"linecolor\": \"white\", \"showbackground\": true, \"ticks\": \"\", \"zerolinecolor\": \"white\"}, \"zaxis\": {\"backgroundcolor\": \"#E5ECF6\", \"gridcolor\": \"white\", \"gridwidth\": 2, \"linecolor\": \"white\", \"showbackground\": true, \"ticks\": \"\", \"zerolinecolor\": \"white\"}}, \"shapedefaults\": {\"line\": {\"color\": \"#2a3f5f\"}}, \"ternary\": {\"aaxis\": {\"gridcolor\": \"white\", \"linecolor\": \"white\", \"ticks\": \"\"}, \"baxis\": {\"gridcolor\": \"white\", \"linecolor\": \"white\", \"ticks\": \"\"}, \"bgcolor\": \"#E5ECF6\", \"caxis\": {\"gridcolor\": \"white\", \"linecolor\": \"white\", \"ticks\": \"\"}}, \"title\": {\"x\": 0.05}, \"xaxis\": {\"automargin\": true, \"gridcolor\": \"white\", \"linecolor\": \"white\", \"ticks\": \"\", \"zerolinecolor\": \"white\", \"zerolinewidth\": 2}, \"yaxis\": {\"automargin\": true, \"gridcolor\": \"white\", \"linecolor\": \"white\", \"ticks\": \"\", \"zerolinecolor\": \"white\", \"zerolinewidth\": 2}}}, \"title\": {\"text\": \"Evolution of prices from 1985 until 2018\"}, \"xaxis\": {\"title\": {\"text\": \"Year\"}}, \"yaxis\": {\"title\": {\"text\": \"Price (Euro)\"}}},\n",
              "                        {\"responsive\": true}\n",
              "                    ).then(function(){\n",
              "                            \n",
              "var gd = document.getElementById('b3caf61d-fd5b-43e9-bd0d-06efc460f599');\n",
              "var x = new MutationObserver(function (mutations, observer) {{\n",
              "        var display = window.getComputedStyle(gd).display;\n",
              "        if (!display || display === 'none') {{\n",
              "            console.log([gd, 'removed!']);\n",
              "            Plotly.purge(gd);\n",
              "            observer.disconnect();\n",
              "        }}\n",
              "}});\n",
              "\n",
              "// Listen for the removal of the full notebook cells\n",
              "var notebookContainer = gd.closest('#notebook-container');\n",
              "if (notebookContainer) {{\n",
              "    x.observe(notebookContainer, {childList: true});\n",
              "}}\n",
              "\n",
              "// Listen for the clearing of the current output cell\n",
              "var outputEl = gd.closest('.output');\n",
              "if (outputEl) {{\n",
              "    x.observe(outputEl, {childList: true});\n",
              "}}\n",
              "\n",
              "                        })\n",
              "                };\n",
              "                \n",
              "            </script>\n",
              "        </div>\n",
              "</body>\n",
              "</html>"
            ]
          },
          "metadata": {
            "tags": []
          }
        }
      ]
    },
    {
      "cell_type": "markdown",
      "metadata": {
        "id": "m_9EdLMowUwJ",
        "colab_type": "text"
      },
      "source": [
        "### Beer Consumption\n",
        "\n",
        "Let's take a look at the beer consumption over the years.\n",
        "\n"
      ]
    },
    {
      "cell_type": "code",
      "metadata": {
        "id": "xmVvZ-NPvQXA",
        "colab_type": "code",
        "outputId": "e6f96d83-2ca9-47ba-b65d-0b4f471ddfcd",
        "colab": {
          "base_uri": "https://localhost:8080/",
          "height": 633
        }
      },
      "source": [
        "# Plot beer consumption \n",
        "df_oktoberfest.plot(y='bier_konsum', figsize=(15,8), linewidth=3, fontsize=16, color='maroon', label='_nolegend_')\n",
        "\n",
        "# Years Landwirtschaftsfest\n",
        "years_landwirtschaftsfest = [1987, 1990, 1993, 1996, 2000, 2004, 2008, 2012, 2016]\n",
        "\n",
        "# Plot vertical line, indicating the celebration of the Landwirtschaftsfest. \n",
        "for year in years_landwirtschaftsfest:\n",
        "    plt.axvline(x=year, color='blue', alpha=0.3)\n",
        "\n",
        "\n",
        "# Annotations - celebration of the landwirtschaftsfest and terrorist attacks  \n",
        "plt.annotate('Vertical lines indicate the celebration of the Landwirtschaftsfest', xy=(2008, 75000), xytext=(1985, 79000), fontsize=15,\n",
        "            arrowprops=dict(facecolor='black', shrink=0.05),bbox = dict(boxstyle=\"round\", fc=\"w\",ec=\"maroon\"),\n",
        "            )\n",
        "plt.annotate('Terrorist attacks 9/11', xy=(2001, df_oktoberfest.loc[2001,'bier_konsum']), xytext=(2004, 52500), fontsize=15,\n",
        "            arrowprops=dict(facecolor='black', shrink=0.05),bbox = dict(boxstyle=\"round\", fc=\"w\",ec=\"maroon\"),\n",
        "            )\n",
        "plt.annotate('Terrorist attacks Paris and Nice', xy=(2016, df_oktoberfest.loc[2016,'bier_konsum']), xytext=(2005, 59000), fontsize=15,\n",
        "            arrowprops=dict(facecolor='black', shrink=0.05),bbox = dict(boxstyle=\"round\", fc=\"w\",ec=\"maroon\"),\n",
        "            )\n",
        "\n",
        "# Title and labels\n",
        "plt.xlabel('Year',fontsize=16)\n",
        "plt.ylabel('Bier consumption (Hectoliters)',fontsize=16)\n",
        "plt.title('Consumption of bier',fontsize=20)"
      ],
      "execution_count": 0,
      "outputs": [
        {
          "output_type": "stream",
          "text": [
            "/usr/local/lib/python3.6/dist-packages/pandas/plotting/_matplotlib/core.py:575: UserWarning:\n",
            "\n",
            "The handle <matplotlib.lines.Line2D object at 0x7fa780ce1b38> has a label of '_nolegend_' which cannot be automatically added to the legend.\n",
            "\n"
          ],
          "name": "stderr"
        },
        {
          "output_type": "execute_result",
          "data": {
            "text/plain": [
              "Text(0.5, 1.0, 'Consumption of bier')"
            ]
          },
          "metadata": {
            "tags": []
          },
          "execution_count": 89
        },
        {
          "output_type": "display_data",
          "data": {
            "image/png": "[encoded data removed]",
            "text/plain": [
              "<Figure size 1080x576 with 1 Axes>"
            ]
          },
          "metadata": {
            "tags": []
          }
        }
      ]
    },
    {
      "cell_type": "markdown",
      "metadata": {
        "id": "X_7qbHTTw7A4",
        "colab_type": "text"
      },
      "source": [
        "As we can observe, the consumption of beer presents a growing trend. The vertical lines indicate the years than the Oktoberfest coincided with the celebration of the Landswirtschaftsfest. This festival is celebrated every four years since 1996 (before every 3) at Theresienwiesen at the same time that Oktoberfest. We can see that small decreases in 2004, 2008, and 2012 could be related to the celebration of this festival.\n",
        "\n",
        "On the contrary, the significant decreases of consumption of beer in 2001 and 2016 could be related to the September 11 terrorist attacks in 2001, the November 2015 Paris terrorist attacks, and the 2016 Nice truck attack. The number of visitors decreased in those years (2001 and 2016), showing the lowest values since 1985.\n"
      ]
    },
    {
      "cell_type": "code",
      "metadata": {
        "id": "F8W3azn4w_Jh",
        "colab_type": "code",
        "outputId": "c52ebd39-98bb-4dfd-d5db-6ac0c9a49375",
        "colab": {
          "base_uri": "https://localhost:8080/",
          "height": 102
        }
      },
      "source": [
        "# Lowest number of visitors since 1985 in 2001,2016, and 1988. \n",
        "df_oktoberfest.besucher_gesamt.sort_values().head(3)"
      ],
      "execution_count": 0,
      "outputs": [
        {
          "output_type": "execute_result",
          "data": {
            "text/plain": [
              "jahr\n",
              "2001    5.5\n",
              "2016    5.6\n",
              "1988    5.7\n",
              "Name: besucher_gesamt, dtype: float64"
            ]
          },
          "metadata": {
            "tags": []
          },
          "execution_count": 91
        }
      ]
    },
    {
      "cell_type": "markdown",
      "metadata": {
        "id": "g1xCfUvrxSF0",
        "colab_type": "text"
      },
      "source": [
        "### Chicken Consumption\n",
        "\n",
        "Now, you try the same for the chicken consumption and see for yourself if we have the same trend as the beer consumption.\n",
        "\n",
        "You would need to do only minor changes to the code of beer consumption."
      ]
    },
    {
      "cell_type": "code",
      "metadata": {
        "id": "ZRtAMYqXxF48",
        "colab_type": "code",
        "colab": {}
      },
      "source": [
        "# Plot beer consumption \n",
        "\n",
        "\n",
        "# Years Landwirtschaftsfest\n",
        "years_landwirtschaftsfest = [1987, 1990, 1993, 1996, 2000, 2004, 2008, 2012, 2016]\n",
        "\n",
        "# Plot vertical line, indicating the celebration of the Landwirtschaftsfest. \n",
        "for year in years_landwirtschaftsfest:\n",
        "    plt.axvline(x=year, color='blue', alpha=0.3)\n",
        "\n",
        "\n",
        "# Annotations - celebration of the landwirtschaftsfest and terrorist attacks  \n",
        "\n",
        "\n",
        "# Title and labels\n",
        "plt.xlabel('Year',fontsize=16)\n",
        "plt.ylabel('Bier consumption (Hectoliters)',fontsize=16)\n",
        "plt.title('Consumption of bier',fontsize=20)"
      ],
      "execution_count": 0,
      "outputs": []
    },
    {
      "cell_type": "markdown",
      "metadata": {
        "id": "6jYROpCEx_rQ",
        "colab_type": "text"
      },
      "source": [
        "### Number of Visitors\n",
        "\n",
        "Finally let's take a look at the total number of visitors from 1985 to 2018."
      ]
    },
    {
      "cell_type": "code",
      "metadata": {
        "id": "RSztNv9e0pPq",
        "colab_type": "code",
        "outputId": "67cec308-24f0-4a1b-a504-6cb4607931bd",
        "colab": {
          "base_uri": "https://localhost:8080/",
          "height": 633
        }
      },
      "source": [
        "# Plot total number of visitors\n",
        "df_oktoberfest.plot(y='besucher_gesamt', figsize=(13,8), marker='o', linewidth=2, fontsize=16, color='darkblue', label='_nolegend_')\n",
        "\n",
        "\n",
        "# Title and labels\n",
        "plt.xlabel('Year',fontsize=16)\n",
        "plt.ylabel('Number of visitors (Milions)',fontsize=16)\n",
        "plt.title('Total number of visitors',fontsize=20)"
      ],
      "execution_count": 0,
      "outputs": [
        {
          "output_type": "stream",
          "text": [
            "/usr/local/lib/python3.6/dist-packages/pandas/plotting/_matplotlib/core.py:575: UserWarning:\n",
            "\n",
            "The handle <matplotlib.lines.Line2D object at 0x7fa77c8750f0> has a label of '_nolegend_' which cannot be automatically added to the legend.\n",
            "\n"
          ],
          "name": "stderr"
        },
        {
          "output_type": "execute_result",
          "data": {
            "text/plain": [
              "Text(0.5, 1.0, 'Total number of visitors')"
            ]
          },
          "metadata": {
            "tags": []
          },
          "execution_count": 101
        },
        {
          "output_type": "display_data",
          "data": {
            "image/png": "[encoded data removed]",
            "text/plain": [
              "<Figure size 936x576 with 1 Axes>"
            ]
          },
          "metadata": {
            "tags": []
          }
        }
      ]
    },
    {
      "cell_type": "markdown",
      "metadata": {
        "id": "wK0j33HS5iGT",
        "colab_type": "text"
      },
      "source": [
        "We can easily analyze the number of visitors by using the above plot. As we can observe, the number of visitors does not follow any trend, ranging from 5.5 to 7.1. So, the consumption of beer is not increasing because the festival has more visitors, but because the people drink more. \n"
      ]
    },
    {
      "cell_type": "markdown",
      "metadata": {
        "id": "G8MkDA8H1tVr",
        "colab_type": "text"
      },
      "source": [
        "# References\n",
        "- https://towardsdatascience.com/oktoberfest-quick-analysis-using-pandas-matplotlib-and-plotly-79778367a4c\n",
        "- https://www.muenchen.de/\n",
        "- https://pandas.pydata.org/index.html\n",
        "- https://matplotlib.org/\n",
        "- https://plot.ly/python/"
      ]
    },
    {
      "cell_type": "code",
      "metadata": {
        "id": "Qb3EpkBE15lo",
        "colab_type": "code",
        "colab": {}
      },
      "source": [
        ""
      ],
      "execution_count": 0,
      "outputs": []
    }
  ]
}